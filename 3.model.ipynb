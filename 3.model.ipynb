{
 "cells": [
  {
   "cell_type": "markdown",
   "metadata": {},
   "source": [
    "<h1>3 Model</h1>\n",
    "\n",
    "Train/Dev/Test the models"
   ]
  },
  {
   "cell_type": "code",
   "execution_count": 2,
   "metadata": {
    "collapsed": false
   },
   "outputs": [],
   "source": [
    "%load_ext autoreload\n",
    "%autoreload 2\n",
    "%reload_ext autoreload\n",
    "\n",
    "import logging\n",
    "import tensorflow as tf\n",
    "import numpy as np\n",
    "\n",
    "\n",
    "from lib.model_cnn_re import CNNModel\n",
    "from lib.config import Config\n",
    "from lib.tools import analysis\n",
    "\n",
    "logging.basicConfig(level=logging.INFO)\n"
   ]
  },
  {
   "cell_type": "markdown",
   "metadata": {},
   "source": [
    "<h3>1. Build the Model</h3>"
   ]
  },
  {
   "cell_type": "code",
   "execution_count": 117,
   "metadata": {
    "collapsed": false
   },
   "outputs": [
    {
     "name": "stderr",
     "output_type": "stream",
     "text": [
      "INFO:lib.vocab: 2453 vocab loaded from data/vocab/2017-10_vocab.csv\n"
     ]
    },
    {
     "name": "stdout",
     "output_type": "stream",
     "text": [
      "data/config/2017-10_v0_config.json\n",
      "\n",
      "\n",
      "TRAINING\n",
      "\n",
      "\n"
     ]
    },
    {
     "name": "stderr",
     "output_type": "stream",
     "text": [
      "INFO:lib.loader: 1125 instances loaded from data/dev/2017-10_train.csv\n",
      "INFO:lib.loader: 300 instances loaded from data/dev/2017-10_dev.csv\n",
      "INFO:lib.loader: 75 instances loaded from data/in_sample_test/2017-10_test.csv\n",
      "INFO:lib.model: train(2622), dev(711), test(75).\n"
     ]
    },
    {
     "name": "stdout",
     "output_type": "stream",
     "text": [
      "0 874\n",
      "1 198\n",
      "2 53\n",
      "oversample from 1125 to 2622\n",
      "0 237\n",
      "1 48\n",
      "2 15\n",
      "oversample from 300 to 711\n",
      "Epoch 0\n",
      "Epoch 1 : mean epoch loss: 1.07882, mean batch loss: 1.07256      \n",
      "Epoch 2 : mean epoch loss: 1.04658, mean batch loss: 1.04017      \n",
      "Epoch 3 : mean epoch loss: 0.997982, mean batch loss: 0.99654       \n",
      "Epoch 4 : mean epoch loss: 0.936829, mean batch loss: 0.944972      \n",
      "Epoch 5 : mean epoch loss: 0.879206, mean batch loss: 0.890154      \n",
      "Epoch 6 : mean epoch loss: 0.833563, mean batch loss: 0.839776      \n",
      "Epoch 7 : mean epoch loss: 0.801898, mean batch loss: 0.800136      \n",
      "Epoch 8 : mean epoch loss: 0.780948, mean batch loss: 0.772084      \n",
      "Epoch 9 : mean epoch loss: 0.767435, mean batch loss: 0.750895      \n",
      "Epoch 10: mean epoch loss: 0.758642, mean batch loss: 0.736507      \n",
      "Epoch 11: mean epoch loss: 0.753916, mean batch loss: 0.727353      \n",
      "Epoch 12: mean epoch loss: 0.749744, mean batch loss: 0.718072      \n",
      "Epoch 13: mean epoch loss: 0.747501, mean batch loss: 0.711863      \n",
      "Epoch 14: mean epoch loss: 0.746358, mean batch loss: 0.708031      \n",
      "Epoch 15: mean epoch loss: 0.74507, mean batch loss: 0.705546       \n",
      "Epoch 16: mean epoch loss: 0.743379, mean batch loss: 0.702769      \n",
      "Epoch 17: mean epoch loss: 0.741827, mean batch loss: 0.700547      \n",
      "Epoch 18: mean epoch loss: 0.74056, mean batch loss: 0.699163       \n",
      "Epoch 19: mean epoch loss: 0.739796, mean batch loss: 0.698003      \n",
      "Epoch 20: mean epoch loss: 0.738793, mean batch loss: 0.697073      \n",
      "Epoch 21: mean epoch loss: 0.737938, mean batch loss: 0.696018      \n",
      "Epoch 22: mean epoch loss: 0.738012, mean batch loss: 0.6955        \n",
      "Epoch 23: mean epoch loss: 0.738274, mean batch loss: 0.694853      \n",
      "Epoch 24: mean epoch loss: 0.73832, mean batch loss: 0.69361        \n",
      "best epoch(20): train loss: 0.563201\t\tdev loss: 0.735156692814      \n",
      "0 / 2 : mean epoch loss: 0.607422, mean batch loss: 0.607422      \n",
      "=================================================\n",
      "\n",
      "*** Test Loss: 0.632968\n",
      "\n",
      "=================================================\n",
      "\n",
      "data/config/2017-10_v1_config.json\n",
      "\n",
      "\n",
      "TRAINING\n",
      "\n",
      "\n"
     ]
    },
    {
     "name": "stderr",
     "output_type": "stream",
     "text": [
      "INFO:lib.vocab: 2453 vocab loaded from data/vocab/2017-10_vocab.csv\n",
      "INFO:lib.loader: 1125 instances loaded from data/dev/2017-10_train.csv\n",
      "INFO:lib.loader: 300 instances loaded from data/dev/2017-10_dev.csv\n",
      "INFO:lib.loader: 75 instances loaded from data/in_sample_test/2017-10_test.csv\n",
      "INFO:lib.model: train(2622), dev(711), test(75).\n"
     ]
    },
    {
     "name": "stdout",
     "output_type": "stream",
     "text": [
      "0 874\n",
      "1 198\n",
      "2 53\n",
      "oversample from 1125 to 2622\n",
      "0 237\n",
      "1 48\n",
      "2 15\n",
      "oversample from 300 to 711\n",
      "Epoch 0\n",
      "Epoch 1 : mean epoch loss: 1.0832, mean batch loss: 1.08621       \n",
      "Epoch 2 : mean epoch loss: 1.05748, mean batch loss: 1.06673      \n",
      "Epoch 3 : mean epoch loss: 1.0117, mean batch loss: 1.03335        \n",
      "Epoch 4 : mean epoch loss: 0.943646, mean batch loss: 0.98007       \n",
      "Epoch 5 : mean epoch loss: 0.877479, mean batch loss: 0.921118      \n",
      "Epoch 6 : mean epoch loss: 0.828234, mean batch loss: 0.867367      \n",
      "Epoch 7 : mean epoch loss: 0.796485, mean batch loss: 0.824457      \n",
      "Epoch 8 : mean epoch loss: 0.776305, mean batch loss: 0.794845      \n",
      "Epoch 9 : mean epoch loss: 0.7643, mean batch loss: 0.773537        \n",
      "Epoch 10: mean epoch loss: 0.755805, mean batch loss: 0.75837       \n",
      "Epoch 11: mean epoch loss: 0.7509, mean batch loss: 0.749304        \n",
      "Epoch 12: mean epoch loss: 0.747445, mean batch loss: 0.739807      \n",
      "Epoch 13: mean epoch loss: 0.745225, mean batch loss: 0.733543      \n",
      "Epoch 14: mean epoch loss: 0.7435, mean batch loss: 0.729646        \n",
      "Epoch 15: mean epoch loss: 0.741488, mean batch loss: 0.726772      \n",
      "Epoch 16: mean epoch loss: 0.740635, mean batch loss: 0.723757      \n",
      "Epoch 17: mean epoch loss: 0.73974, mean batch loss: 0.721882       \n",
      "Epoch 18: mean epoch loss: 0.741205, mean batch loss: 0.721298      \n",
      "Epoch 19: mean epoch loss: 0.740872, mean batch loss: 0.719509      \n",
      "Epoch 20: mean epoch loss: 0.740887, mean batch loss: 0.719442      \n",
      "best epoch(16): train loss: 0.57129\t\tdev loss: 0.741: 0.71827       \n",
      "0 / 2 : mean epoch loss: 0.607483, mean batch loss: 0.607483      \r"
     ]
    },
    {
     "name": "stderr",
     "output_type": "stream",
     "text": [
      "INFO:lib.vocab: 2453 vocab loaded from data/vocab/2017-10_vocab.csv\n"
     ]
    },
    {
     "name": "stdout",
     "output_type": "stream",
     "text": [
      "\n",
      "=================================================\n",
      "\n",
      "*** Test Loss: 0.644323\n",
      "\n",
      "=================================================\n",
      "\n",
      "data/config/2017-10_v2_config.json\n",
      "\n",
      "\n",
      "TRAINING\n",
      "\n",
      "\n"
     ]
    },
    {
     "name": "stderr",
     "output_type": "stream",
     "text": [
      "INFO:lib.loader: 1125 instances loaded from data/dev/2017-10_train.csv\n",
      "INFO:lib.loader: 300 instances loaded from data/dev/2017-10_dev.csv\n",
      "INFO:lib.loader: 75 instances loaded from data/in_sample_test/2017-10_test.csv\n",
      "INFO:lib.model: train(2622), dev(711), test(75).\n"
     ]
    },
    {
     "name": "stdout",
     "output_type": "stream",
     "text": [
      "0 874\n",
      "1 198\n",
      "2 53\n",
      "oversample from 1125 to 2622\n",
      "0 237\n",
      "1 48\n",
      "2 15\n",
      "oversample from 300 to 711\n",
      "Epoch 0\n",
      "Epoch 1 : mean epoch loss: 1.07395, mean batch loss: 1.07947      \n",
      "Epoch 2 : mean epoch loss: 1.03768, mean batch loss: 1.04616      \n",
      "Epoch 3 : mean epoch loss: 0.987592, mean batch loss: 0.997008      \n",
      "Epoch 4 : mean epoch loss: 0.930721, mean batch loss: 0.942969      \n",
      "Epoch 5 : mean epoch loss: 0.87764, mean batch loss: 0.88929        \n",
      "Epoch 6 : mean epoch loss: 0.834707, mean batch loss: 0.841795      \n",
      "Epoch 7 : mean epoch loss: 0.80499, mean batch loss: 0.801012       \n",
      "Epoch 8 : mean epoch loss: 0.786011, mean batch loss: 0.770898      \n",
      "Epoch 9 : mean epoch loss: 0.773888, mean batch loss: 0.750288      \n",
      "Epoch 10: mean epoch loss: 0.766078, mean batch loss: 0.736614      \n",
      "Epoch 11: mean epoch loss: 0.760539, mean batch loss: 0.728274      \n",
      "Epoch 12: mean epoch loss: 0.756414, mean batch loss: 0.721412      \n",
      "Epoch 13: mean epoch loss: 0.753431, mean batch loss: 0.716774      \n",
      "Epoch 14: mean epoch loss: 0.751553, mean batch loss: 0.713117      \n",
      "Epoch 15: mean epoch loss: 0.750616, mean batch loss: 0.70956       \n",
      "Epoch 16: mean epoch loss: 0.749687, mean batch loss: 0.706747      \n",
      "Epoch 17: mean epoch loss: 0.749094, mean batch loss: 0.704004      \n",
      "Epoch 18: mean epoch loss: 0.748308, mean batch loss: 0.701902      \n",
      "Epoch 19: mean epoch loss: 0.748254, mean batch loss: 0.70135       \n",
      "Epoch 20: mean epoch loss: 0.74751, mean batch loss: 0.700444       \n",
      "Epoch 21: mean epoch loss: 0.747679, mean batch loss: 0.699819      \n",
      "Epoch 22: mean epoch loss: 0.747354, mean batch loss: 0.699362      \n",
      "Epoch 23: mean epoch loss: 0.747238, mean batch loss: 0.698925      \n",
      "Epoch 24: mean epoch loss: 0.747363, mean batch loss: 0.699131      \n",
      "Epoch 25: mean epoch loss: 0.747845, mean batch loss: 0.699196      \n",
      "Epoch 26: mean epoch loss: 0.747964, mean batch loss: 0.699981      \n",
      "best epoch(22): train loss: 0.561646\t\tdev loss: 0.754063700562      \n",
      "0 / 2 : mean epoch loss: 0.594359, mean batch loss: 0.594359      \r"
     ]
    },
    {
     "name": "stderr",
     "output_type": "stream",
     "text": [
      "INFO:lib.vocab: 2453 vocab loaded from data/vocab/2017-10_vocab.csv\n"
     ]
    },
    {
     "name": "stdout",
     "output_type": "stream",
     "text": [
      "\n",
      "=================================================\n",
      "\n",
      "*** Test Loss: 0.635414\n",
      "\n",
      "=================================================\n",
      "\n",
      "data/config/2017-10_v3_config.json\n",
      "\n",
      "\n",
      "TRAINING\n",
      "\n",
      "\n"
     ]
    },
    {
     "name": "stderr",
     "output_type": "stream",
     "text": [
      "INFO:lib.loader: 1125 instances loaded from data/dev/2017-10_train.csv\n",
      "INFO:lib.loader: 300 instances loaded from data/dev/2017-10_dev.csv\n",
      "INFO:lib.loader: 75 instances loaded from data/in_sample_test/2017-10_test.csv\n",
      "INFO:lib.model: train(2622), dev(711), test(75).\n"
     ]
    },
    {
     "name": "stdout",
     "output_type": "stream",
     "text": [
      "0 874\n",
      "1 198\n",
      "2 53\n",
      "oversample from 1125 to 2622\n",
      "0 237\n",
      "1 48\n",
      "2 15\n",
      "oversample from 300 to 711\n",
      "Epoch 0\n",
      "Epoch 1 : mean epoch loss: 1.07645, mean batch loss: 1.08358      \n",
      "Epoch 2 : mean epoch loss: 1.04561, mean batch loss: 1.06026      \n",
      "Epoch 3 : mean epoch loss: 0.999186, mean batch loss: 1.0215        \n",
      "Epoch 4 : mean epoch loss: 0.93842, mean batch loss: 0.960526       \n",
      "Epoch 5 : mean epoch loss: 0.877086, mean batch loss: 0.891819      \n",
      "Epoch 6 : mean epoch loss: 0.830447, mean batch loss: 0.839708      \n",
      "Epoch 7 : mean epoch loss: 0.799787, mean batch loss: 0.808398      \n",
      "Epoch 8 : mean epoch loss: 0.780477, mean batch loss: 0.788295      \n",
      "Epoch 9 : mean epoch loss: 0.768668, mean batch loss: 0.776885      \n",
      "Epoch 10: mean epoch loss: 0.761216, mean batch loss: 0.768769      \n",
      "Epoch 11: mean epoch loss: 0.756706, mean batch loss: 0.76355       \n",
      "Epoch 12: mean epoch loss: 0.753385, mean batch loss: 0.760742      \n",
      "Epoch 13: mean epoch loss: 0.751177, mean batch loss: 0.758582      \n",
      "Epoch 14: mean epoch loss: 0.749443, mean batch loss: 0.757461      \n",
      "Epoch 15: mean epoch loss: 0.747363, mean batch loss: 0.755517      \n",
      "Epoch 16: mean epoch loss: 0.747807, mean batch loss: 0.755607      \n",
      "Epoch 17: mean epoch loss: 0.746683, mean batch loss: 0.756084      \n",
      "Epoch 18: mean epoch loss: 0.747735, mean batch loss: 0.757522      \n",
      "Epoch 19: mean epoch loss: 0.74718, mean batch loss: 0.758092       \n",
      "Epoch 20: mean epoch loss: 0.747207, mean batch loss: 0.758913      \n",
      "best epoch(16): train loss: 0.570863\t\tdev loss: 0.7468937603        \n",
      "0 / 2 : mean epoch loss: 0.592788, mean batch loss: 0.592788      \n",
      "=================================================\n",
      "\n",
      "*** Test Loss: 0.632304\n",
      "\n",
      "=================================================\n",
      "\n",
      "data/config/2017-10_v4_config.json\n",
      "\n",
      "\n",
      "TRAINING\n",
      "\n",
      "\n"
     ]
    },
    {
     "name": "stderr",
     "output_type": "stream",
     "text": [
      "INFO:lib.vocab: 2453 vocab loaded from data/vocab/2017-10_vocab.csv\n",
      "INFO:lib.loader: 1125 instances loaded from data/dev/2017-10_train.csv\n",
      "INFO:lib.loader: 300 instances loaded from data/dev/2017-10_dev.csv\n",
      "INFO:lib.loader: 75 instances loaded from data/in_sample_test/2017-10_test.csv\n",
      "INFO:lib.model: train(2622), dev(711), test(75).\n"
     ]
    },
    {
     "name": "stdout",
     "output_type": "stream",
     "text": [
      "0 874\n",
      "1 198\n",
      "2 53\n",
      "oversample from 1125 to 2622\n",
      "0 237\n",
      "1 48\n",
      "2 15\n",
      "oversample from 300 to 711\n",
      "Epoch 0\n",
      "Epoch 1 : mean epoch loss: 1.07137, mean batch loss: 1.07547      \n",
      "Epoch 2 : mean epoch loss: 1.03384, mean batch loss: 1.04798       \n",
      "Epoch 3 : mean epoch loss: 0.981831, mean batch loss: 1.00946       \n",
      "Epoch 4 : mean epoch loss: 0.926234, mean batch loss: 0.968686      \n",
      "Epoch 5 : mean epoch loss: 0.877795, mean batch loss: 0.932209      \n",
      "Epoch 6 : mean epoch loss: 0.838164, mean batch loss: 0.901679      \n",
      "Epoch 7 : mean epoch loss: 0.80812, mean batch loss: 0.875149       \n",
      "Epoch 8 : mean epoch loss: 0.788778, mean batch loss: 0.855141      \n",
      "Epoch 9 : mean epoch loss: 0.775294, mean batch loss: 0.838803      \n",
      "Epoch 10: mean epoch loss: 0.767896, mean batch loss: 0.826043      \n",
      "Epoch 11: mean epoch loss: 0.763607, mean batch loss: 0.816094      \n",
      "Epoch 12: mean epoch loss: 0.761313, mean batch loss: 0.808107      \n",
      "Epoch 13: mean epoch loss: 0.759876, mean batch loss: 0.800969      \n",
      "Epoch 14: mean epoch loss: 0.758895, mean batch loss: 0.794027      \n",
      "Epoch 15: mean epoch loss: 0.758425, mean batch loss: 0.789057      \n",
      "Epoch 16: mean epoch loss: 0.759422, mean batch loss: 0.787334      \n",
      "Epoch 17: mean epoch loss: 0.759859, mean batch loss: 0.785721      \n",
      "Epoch 18: mean epoch loss: 0.760507, mean batch loss: 0.784407      \n",
      "best epoch(14): train loss: 0.58221\t\tdev loss: 0.759358.785271      \n",
      "0 / 2 : mean epoch loss: 0.609971, mean batch loss: 0.609971      \n",
      "=================================================\n",
      "\n",
      "*** Test Loss: 0.63194\n",
      "\n",
      "=================================================\n",
      "\n",
      "data/config/2017-12_v0_config.json"
     ]
    },
    {
     "name": "stderr",
     "output_type": "stream",
     "text": [
      "INFO:lib.vocab: 3904 vocab loaded from data/vocab/2017-12_vocab.csv\n"
     ]
    },
    {
     "name": "stdout",
     "output_type": "stream",
     "text": [
      "\n",
      "\n",
      "\n",
      "TRAINING\n",
      "\n",
      "\n"
     ]
    },
    {
     "name": "stderr",
     "output_type": "stream",
     "text": [
      "INFO:lib.loader: 1125 instances loaded from data/dev/2017-12_train.csv\n",
      "INFO:lib.loader: 300 instances loaded from data/dev/2017-12_dev.csv\n",
      "INFO:lib.loader: 75 instances loaded from data/in_sample_test/2017-12_test.csv\n",
      "INFO:lib.model: train(2712), dev(729), test(75).\n"
     ]
    },
    {
     "name": "stdout",
     "output_type": "stream",
     "text": [
      "0 904\n",
      "1 80\n",
      "2 141\n",
      "oversample from 1125 to 2712\n",
      "0 243\n",
      "1 21\n",
      "2 36\n",
      "oversample from 300 to 729\n",
      "Epoch 0\n",
      "Epoch 1 : mean epoch loss: 1.0756, mean batch loss: 1.07429       \n",
      "Epoch 2 : mean epoch loss: 1.03004, mean batch loss: 1.02775      \n",
      "Epoch 3 : mean epoch loss: 0.967014, mean batch loss: 0.960439      \n",
      "Epoch 4 : mean epoch loss: 0.89557, mean batch loss: 0.886575       \n",
      "Epoch 5 : mean epoch loss: 0.824717, mean batch loss: 0.816747      \n",
      "Epoch 6 : mean epoch loss: 0.776144, mean batch loss: 0.768943      \n",
      "Epoch 7 : mean epoch loss: 0.752548, mean batch loss: 0.744721      \n",
      "Epoch 8 : mean epoch loss: 0.742159, mean batch loss: 0.731234      \n",
      "Epoch 9 : mean epoch loss: 0.737027, mean batch loss: 0.723651      \n",
      "Epoch 10: mean epoch loss: 0.734529, mean batch loss: 0.718645      \n",
      "Epoch 11: mean epoch loss: 0.73395, mean batch loss: 0.715483       \n",
      "Epoch 12: mean epoch loss: 0.733896, mean batch loss: 0.713603      \n",
      "Epoch 13: mean epoch loss: 0.734119, mean batch loss: 0.712761      \n",
      "Epoch 14: mean epoch loss: 0.734776, mean batch loss: 0.711793      \n",
      "Epoch 15: mean epoch loss: 0.734888, mean batch loss: 0.711663      \n",
      "best epoch(11): train loss: 0.576601\t\tdev loss: 0.734049711971      \n",
      "0 / 2 : mean epoch loss: 0.607629, mean batch loss: 0.607629      \n",
      "=================================================\n",
      "\n",
      "*** Test Loss: 0.627816\n",
      "\n",
      "=================================================\n",
      "\n",
      "data/config/2017-12_v1_config.json\n",
      "\n",
      "\n",
      "TRAINING\n",
      "\n",
      "\n"
     ]
    },
    {
     "name": "stderr",
     "output_type": "stream",
     "text": [
      "INFO:lib.vocab: 3904 vocab loaded from data/vocab/2017-12_vocab.csv\n",
      "INFO:lib.loader: 1125 instances loaded from data/dev/2017-12_train.csv\n",
      "INFO:lib.loader: 300 instances loaded from data/dev/2017-12_dev.csv\n",
      "INFO:lib.loader: 75 instances loaded from data/in_sample_test/2017-12_test.csv\n",
      "INFO:lib.model: train(2712), dev(729), test(75).\n"
     ]
    },
    {
     "name": "stdout",
     "output_type": "stream",
     "text": [
      "0 904\n",
      "1 80\n",
      "2 141\n",
      "oversample from 1125 to 2712\n",
      "0 243\n",
      "1 21\n",
      "2 36\n",
      "oversample from 300 to 729\n",
      "Epoch 0\n",
      "Epoch 1 : mean epoch loss: 1.05855, mean batch loss: 1.06089      \n",
      "Epoch 2 : mean epoch loss: 0.983487, mean batch loss: 0.993826      \n",
      "Epoch 3 : mean epoch loss: 0.879254, mean batch loss: 0.893352      \n",
      "Epoch 4 : mean epoch loss: 0.800749, mean batch loss: 0.804095      \n",
      "Epoch 5 : mean epoch loss: 0.758789, mean batch loss: 0.748539      \n",
      "Epoch 6 : mean epoch loss: 0.737533, mean batch loss: 0.719427      \n",
      "Epoch 7 : mean epoch loss: 0.727065, mean batch loss: 0.704615      \n",
      "Epoch 8 : mean epoch loss: 0.722276, mean batch loss: 0.697318      \n",
      "Epoch 9 : mean epoch loss: 0.721356, mean batch loss: 0.693598      \n",
      "Epoch 10: mean epoch loss: 0.721819, mean batch loss: 0.692665      \n",
      "Epoch 11: mean epoch loss: 0.723037, mean batch loss: 0.692175      \n",
      "Epoch 12: mean epoch loss: 0.724841, mean batch loss: 0.692419      \n",
      "best epoch(8): train loss: 0.591286\t\tdev loss: 0.721102.693655      \n",
      "0 / 2 : mean epoch loss: 0.595934, mean batch loss: 0.595934      \n",
      "=================================================\n",
      "\n",
      "*** Test Loss: 0.608653\n",
      "\n",
      "=================================================\n",
      "\n"
     ]
    },
    {
     "name": "stderr",
     "output_type": "stream",
     "text": [
      "INFO:lib.vocab: 3904 vocab loaded from data/vocab/2017-12_vocab.csv\n"
     ]
    },
    {
     "name": "stdout",
     "output_type": "stream",
     "text": [
      "data/config/2017-12_v2_config.json\n",
      "\n",
      "\n",
      "TRAINING\n",
      "\n",
      "\n"
     ]
    },
    {
     "name": "stderr",
     "output_type": "stream",
     "text": [
      "INFO:lib.loader: 1125 instances loaded from data/dev/2017-12_train.csv\n",
      "INFO:lib.loader: 300 instances loaded from data/dev/2017-12_dev.csv\n",
      "INFO:lib.loader: 75 instances loaded from data/in_sample_test/2017-12_test.csv\n",
      "INFO:lib.model: train(2712), dev(729), test(75).\n"
     ]
    },
    {
     "name": "stdout",
     "output_type": "stream",
     "text": [
      "0 904\n",
      "1 80\n",
      "2 141\n",
      "oversample from 1125 to 2712\n",
      "0 243\n",
      "1 21\n",
      "2 36\n",
      "oversample from 300 to 729\n",
      "Epoch 0\n",
      "Epoch 1 : mean epoch loss: 1.05014, mean batch loss: 1.0448       \n",
      "Epoch 2 : mean epoch loss: 0.970935, mean batch loss: 0.962713      \n",
      "Epoch 3 : mean epoch loss: 0.86094, mean batch loss: 0.851416       \n",
      "Epoch 4 : mean epoch loss: 0.775364, mean batch loss: 0.76729       \n",
      "Epoch 5 : mean epoch loss: 0.734115, mean batch loss: 0.726847      \n",
      "Epoch 6 : mean epoch loss: 0.715379, mean batch loss: 0.709059      \n",
      "Epoch 7 : mean epoch loss: 0.707749, mean batch loss: 0.703285      \n",
      "Epoch 8 : mean epoch loss: 0.704442, mean batch loss: 0.702394      \n",
      "Epoch 9 : mean epoch loss: 0.704053, mean batch loss: 0.704838      \n",
      "Epoch 10: mean epoch loss: 0.704917, mean batch loss: 0.70907       \n",
      "Epoch 11: mean epoch loss: 0.706567, mean batch loss: 0.7136        \n",
      "Epoch 12: mean epoch loss: 0.708391, mean batch loss: 0.717146      \n",
      "best epoch(8): train loss: 0.590742\t\tdev loss: 0.703860.719592      \n",
      "0 / 2 : mean epoch loss: 0.614737, mean batch loss: 0.614737      \n",
      "=================================================\n",
      "\n",
      "*** Test Loss: 0.636266\n",
      "\n",
      "=================================================\n",
      "\n",
      "data/config/2017-12_v3_config.json\n",
      "\n",
      "\n",
      "TRAINING\n",
      "\n",
      "\n"
     ]
    },
    {
     "name": "stderr",
     "output_type": "stream",
     "text": [
      "INFO:lib.vocab: 3904 vocab loaded from data/vocab/2017-12_vocab.csv\n",
      "INFO:lib.loader: 1125 instances loaded from data/dev/2017-12_train.csv\n",
      "INFO:lib.loader: 300 instances loaded from data/dev/2017-12_dev.csv\n",
      "INFO:lib.loader: 75 instances loaded from data/in_sample_test/2017-12_test.csv\n",
      "INFO:lib.model: train(2712), dev(729), test(75).\n"
     ]
    },
    {
     "name": "stdout",
     "output_type": "stream",
     "text": [
      "0 904\n",
      "1 80\n",
      "2 141\n",
      "oversample from 1125 to 2712\n",
      "0 243\n",
      "1 21\n",
      "2 36\n",
      "oversample from 300 to 729\n",
      "Epoch 0\n",
      "Epoch 1 : mean epoch loss: 1.06193, mean batch loss: 1.07095      \n",
      "Epoch 2 : mean epoch loss: 0.999823, mean batch loss: 1.02408       \n",
      "Epoch 3 : mean epoch loss: 0.903955, mean batch loss: 0.939925      \n",
      "Epoch 4 : mean epoch loss: 0.810393, mean batch loss: 0.845597      \n",
      "Epoch 5 : mean epoch loss: 0.759842, mean batch loss: 0.792164      \n",
      "Epoch 6 : mean epoch loss: 0.735579, mean batch loss: 0.76386       \n",
      "Epoch 7 : mean epoch loss: 0.72306, mean batch loss: 0.749343       \n",
      "Epoch 8 : mean epoch loss: 0.715431, mean batch loss: 0.742405      \n",
      "Epoch 9 : mean epoch loss: 0.71114, mean batch loss: 0.739792       \n",
      "Epoch 10: mean epoch loss: 0.709273, mean batch loss: 0.739767      \n",
      "Epoch 11: mean epoch loss: 0.708219, mean batch loss: 0.741446      \n",
      "Epoch 12: mean epoch loss: 0.707746, mean batch loss: 0.743769      \n",
      "Epoch 13: mean epoch loss: 0.707763, mean batch loss: 0.746619      \n",
      "Epoch 14: mean epoch loss: 0.707953, mean batch loss: 0.748906      \n",
      "Epoch 15: mean epoch loss: 0.708479, mean batch loss: 0.751053      \n",
      "best epoch(11): train loss: 0.574093\t\tdev loss: 0.708923753756      \n",
      "0 / 2 : mean epoch loss: 0.604115, mean batch loss: 0.604115      \n",
      "=================================================\n",
      "\n",
      "*** Test Loss: 0.615856\n",
      "\n",
      "=================================================\n",
      "\n",
      "data/config/2017-12_v4_config.json\n",
      "\n",
      "\n",
      "TRAINING\n",
      "\n",
      "\n"
     ]
    },
    {
     "name": "stderr",
     "output_type": "stream",
     "text": [
      "INFO:lib.vocab: 3904 vocab loaded from data/vocab/2017-12_vocab.csv\n",
      "INFO:lib.loader: 1125 instances loaded from data/dev/2017-12_train.csv\n",
      "INFO:lib.loader: 300 instances loaded from data/dev/2017-12_dev.csv\n",
      "INFO:lib.loader: 75 instances loaded from data/in_sample_test/2017-12_test.csv\n",
      "INFO:lib.model: train(2712), dev(729), test(75).\n"
     ]
    },
    {
     "name": "stdout",
     "output_type": "stream",
     "text": [
      "0 904\n",
      "1 80\n",
      "2 141\n",
      "oversample from 1125 to 2712\n",
      "0 243\n",
      "1 21\n",
      "2 36\n",
      "oversample from 300 to 729\n",
      "Epoch 0\n",
      "Epoch 1 : mean epoch loss: 1.04897, mean batch loss: 1.04605      \n",
      "Epoch 2 : mean epoch loss: 0.97218, mean batch loss: 0.958621       \n",
      "Epoch 3 : mean epoch loss: 0.877926, mean batch loss: 0.844532      \n",
      "Epoch 4 : mean epoch loss: 0.80678, mean batch loss: 0.757976       \n",
      "Epoch 5 : mean epoch loss: 0.766386, mean batch loss: 0.712057      \n",
      "Epoch 6 : mean epoch loss: 0.744651, mean batch loss: 0.690989      \n",
      "Epoch 7 : mean epoch loss: 0.73284, mean batch loss: 0.682066       \n",
      "Epoch 8 : mean epoch loss: 0.726859, mean batch loss: 0.678776      \n",
      "Epoch 9 : mean epoch loss: 0.723864, mean batch loss: 0.679188      \n",
      "Epoch 10: mean epoch loss: 0.722931, mean batch loss: 0.681388      \n",
      "Epoch 11: mean epoch loss: 0.722915, mean batch loss: 0.685132      \n",
      "Epoch 12: mean epoch loss: 0.72418, mean batch loss: 0.690096       \n",
      "Epoch 13: mean epoch loss: 0.72498, mean batch loss: 0.692946       \n",
      "Epoch 14: mean epoch loss: 0.726738, mean batch loss: 0.698278      \n",
      "best epoch(10): train loss: 0.57558\t\tdev loss: 0.722283.702289      \n",
      "0 / 2 : mean epoch loss: 0.601667, mean batch loss: 0.601667      \n",
      "=================================================\n",
      "\n",
      "*** Test Loss: 0.638411\n",
      "\n",
      "=================================================\n",
      "\n",
      "data/config/2018-01_v0_config.json\n",
      "\n",
      "\n",
      "TRAINING\n",
      "\n",
      "\n"
     ]
    },
    {
     "name": "stderr",
     "output_type": "stream",
     "text": [
      "INFO:lib.vocab: 2737 vocab loaded from data/vocab/2018-01_vocab.csv\n",
      "INFO:lib.loader: 1125 instances loaded from data/dev/2018-01_train.csv\n",
      "INFO:lib.loader: 300 instances loaded from data/dev/2018-01_dev.csv\n",
      "INFO:lib.loader: 75 instances loaded from data/in_sample_test/2018-01_test.csv\n",
      "INFO:lib.model: train(2313), dev(576), test(75).\n"
     ]
    },
    {
     "name": "stdout",
     "output_type": "stream",
     "text": [
      "0 771\n",
      "1 241\n",
      "2 113\n",
      "oversample from 1125 to 2313\n",
      "0 192\n",
      "1 84\n",
      "2 24\n",
      "oversample from 300 to 576\n",
      "Epoch 0\n",
      "Epoch 1 : mean epoch loss: 1.06362, mean batch loss: 1.06498      \n",
      "Epoch 2 : mean epoch loss: 1.02457, mean batch loss: 1.03487       \n",
      "Epoch 3 : mean epoch loss: 0.988313, mean batch loss: 1.00325       \n",
      "Epoch 4 : mean epoch loss: 0.954722, mean batch loss: 0.971531      \n",
      "Epoch 5 : mean epoch loss: 0.924084, mean batch loss: 0.94165       \n",
      "Epoch 6 : mean epoch loss: 0.895652, mean batch loss: 0.912421      \n",
      "Epoch 7 : mean epoch loss: 0.867695, mean batch loss: 0.884358      \n",
      "Epoch 8 : mean epoch loss: 0.838063, mean batch loss: 0.855641      \n",
      "Epoch 9 : mean epoch loss: 0.80802, mean batch loss: 0.82914        \n",
      "Epoch 10: mean epoch loss: 0.783615, mean batch loss: 0.809186      \n",
      "Epoch 11: mean epoch loss: 0.765784, mean batch loss: 0.795822      \n",
      "Epoch 12: mean epoch loss: 0.755786, mean batch loss: 0.788659      \n",
      "Epoch 13: mean epoch loss: 0.748289, mean batch loss: 0.781848      \n",
      "Epoch 14: mean epoch loss: 0.743666, mean batch loss: 0.778224      \n",
      "Epoch 15: mean epoch loss: 0.740305, mean batch loss: 0.775756      \n",
      "Epoch 16: mean epoch loss: 0.73842, mean batch loss: 0.775601       \n",
      "Epoch 17: mean epoch loss: 0.737303, mean batch loss: 0.776329      \n",
      "Epoch 18: mean epoch loss: 0.735946, mean batch loss: 0.774952      \n",
      "Epoch 19: mean epoch loss: 0.734872, mean batch loss: 0.772478      \n",
      "Epoch 20: mean epoch loss: 0.734887, mean batch loss: 0.772731      \n",
      "Epoch 21: mean epoch loss: 0.734412, mean batch loss: 0.771291      \n",
      "Epoch 22: mean epoch loss: 0.735057, mean batch loss: 0.771679      \n",
      "Epoch 23: mean epoch loss: 0.734275, mean batch loss: 0.769722      \n",
      "Epoch 24: mean epoch loss: 0.73429, mean batch loss: 0.768782       \n",
      "Epoch 25: mean epoch loss: 0.734832, mean batch loss: 0.767955      \n",
      "Epoch 26: mean epoch loss: 0.734527, mean batch loss: 0.766953      \n",
      "Epoch 27: mean epoch loss: 0.733616, mean batch loss: 0.765239      \n",
      "Epoch 28: mean epoch loss: 0.734403, mean batch loss: 0.764874      \n",
      "Epoch 29: mean epoch loss: 0.733846, mean batch loss: 0.762525      \n",
      "Epoch 30: mean epoch loss: 0.733924, mean batch loss: 0.762112      \n",
      "best epoch(26): train loss: 0.560741\t\tdev loss: 0.724335761877      \n",
      "0 / 2 : mean epoch loss: 0.64598, mean batch loss: 0.64598      \n",
      "=================================================\n",
      "\n",
      "*** Test Loss: 0.643992\n",
      "\n",
      "=================================================\n",
      "\n"
     ]
    },
    {
     "name": "stderr",
     "output_type": "stream",
     "text": [
      "INFO:lib.vocab: 2737 vocab loaded from data/vocab/2018-01_vocab.csv\n"
     ]
    },
    {
     "name": "stdout",
     "output_type": "stream",
     "text": [
      "data/config/2018-01_v1_config.json\n",
      "\n",
      "\n",
      "TRAINING\n",
      "\n",
      "\n"
     ]
    },
    {
     "name": "stderr",
     "output_type": "stream",
     "text": [
      "INFO:lib.loader: 1125 instances loaded from data/dev/2018-01_train.csv\n",
      "INFO:lib.loader: 300 instances loaded from data/dev/2018-01_dev.csv\n",
      "INFO:lib.loader: 75 instances loaded from data/in_sample_test/2018-01_test.csv\n",
      "INFO:lib.model: train(2313), dev(576), test(75).\n"
     ]
    },
    {
     "name": "stdout",
     "output_type": "stream",
     "text": [
      "0 771\n",
      "1 241\n",
      "2 113\n",
      "oversample from 1125 to 2313\n",
      "0 192\n",
      "1 84\n",
      "2 24\n",
      "oversample from 300 to 576\n",
      "Epoch 0\n",
      "Epoch 1 : mean epoch loss: 1.0753, mean batch loss: 1.09237       \n",
      "Epoch 2 : mean epoch loss: 1.04625, mean batch loss: 1.07096      \n",
      "Epoch 3 : mean epoch loss: 1.01764, mean batch loss: 1.04867       \n",
      "Epoch 4 : mean epoch loss: 0.985638, mean batch loss: 1.02347       \n",
      "Epoch 5 : mean epoch loss: 0.943301, mean batch loss: 0.989363      \n",
      "Epoch 6 : mean epoch loss: 0.8928, mean batch loss: 0.941249        \n",
      "Epoch 7 : mean epoch loss: 0.842413, mean batch loss: 0.891286      \n",
      "Epoch 8 : mean epoch loss: 0.806224, mean batch loss: 0.858458      \n",
      "Epoch 9 : mean epoch loss: 0.782948, mean batch loss: 0.83838       \n",
      "Epoch 10: mean epoch loss: 0.767179, mean batch loss: 0.82613       \n",
      "Epoch 11: mean epoch loss: 0.756549, mean batch loss: 0.818056      \n",
      "Epoch 12: mean epoch loss: 0.748737, mean batch loss: 0.813333      \n",
      "Epoch 13: mean epoch loss: 0.74405, mean batch loss: 0.811173       \n",
      "Epoch 14: mean epoch loss: 0.741059, mean batch loss: 0.809704      \n",
      "Epoch 15: mean epoch loss: 0.738442, mean batch loss: 0.808708      \n",
      "Epoch 16: mean epoch loss: 0.736854, mean batch loss: 0.808741      \n",
      "Epoch 17: mean epoch loss: 0.736431, mean batch loss: 0.809726      \n",
      "Epoch 18: mean epoch loss: 0.734523, mean batch loss: 0.808745      \n",
      "Epoch 19: mean epoch loss: 0.733616, mean batch loss: 0.808587      \n",
      "Epoch 20: mean epoch loss: 0.733087, mean batch loss: 0.809369      \n",
      "Epoch 21: mean epoch loss: 0.732162, mean batch loss: 0.809787      \n",
      "Epoch 22: mean epoch loss: 0.7313, mean batch loss: 0.809398        \n",
      "Epoch 23: mean epoch loss: 0.731837, mean batch loss: 0.809536      \n",
      "Epoch 24: mean epoch loss: 0.730635, mean batch loss: 0.808082      \n",
      "Epoch 25: mean epoch loss: 0.730663, mean batch loss: 0.808599      \n",
      "Epoch 26: mean epoch loss: 0.730651, mean batch loss: 0.809462      \n",
      "Epoch 27: mean epoch loss: 0.729944, mean batch loss: 0.809578      \n",
      "Epoch 28: mean epoch loss: 0.729995, mean batch loss: 0.809652      \n",
      "Epoch 29: mean epoch loss: 0.730595, mean batch loss: 0.8099        \n",
      "Epoch 30: mean epoch loss: 0.73089, mean batch loss: 0.809904       \n",
      "Epoch 31: mean epoch loss: 0.730899, mean batch loss: 0.810057      \n",
      "best epoch(27): train loss: 0.56163\t\tdev loss: 0.737286810722       \n",
      "0 / 2 : mean epoch loss: 0.641575, mean batch loss: 0.641575      \n",
      "=================================================\n",
      "\n",
      "*** Test Loss: 0.64339\n",
      "\n",
      "=================================================\n",
      "\n",
      "data/config/2018-01_v2_config.json\n",
      "\n",
      "\n",
      "TRAINING\n",
      "\n",
      "\n"
     ]
    },
    {
     "name": "stderr",
     "output_type": "stream",
     "text": [
      "INFO:lib.vocab: 2737 vocab loaded from data/vocab/2018-01_vocab.csv\n",
      "INFO:lib.loader: 1125 instances loaded from data/dev/2018-01_train.csv\n",
      "INFO:lib.loader: 300 instances loaded from data/dev/2018-01_dev.csv\n",
      "INFO:lib.loader: 75 instances loaded from data/in_sample_test/2018-01_test.csv\n",
      "INFO:lib.model: train(2313), dev(576), test(75).\n"
     ]
    },
    {
     "name": "stdout",
     "output_type": "stream",
     "text": [
      "0 771\n",
      "1 241\n",
      "2 113\n",
      "oversample from 1125 to 2313\n",
      "0 192\n",
      "1 84\n",
      "2 24\n",
      "oversample from 300 to 576\n",
      "Epoch 0\n",
      "Epoch 1 : mean epoch loss: 1.06981, mean batch loss: 1.05396      \n",
      "Epoch 2 : mean epoch loss: 1.03374, mean batch loss: 0.999272      \n",
      "Epoch 3 : mean epoch loss: 0.994306, mean batch loss: 0.939454      \n",
      "Epoch 4 : mean epoch loss: 0.949565, mean batch loss: 0.878613      \n",
      "Epoch 5 : mean epoch loss: 0.900881, mean batch loss: 0.821812      \n",
      "Epoch 6 : mean epoch loss: 0.854509, mean batch loss: 0.774589      \n",
      "Epoch 7 : mean epoch loss: 0.81755, mean batch loss: 0.742317       \n",
      "Epoch 8 : mean epoch loss: 0.791041, mean batch loss: 0.721822      \n",
      "Epoch 9 : mean epoch loss: 0.772194, mean batch loss: 0.709464      \n",
      "Epoch 10: mean epoch loss: 0.759099, mean batch loss: 0.70124       \n",
      "Epoch 11: mean epoch loss: 0.749077, mean batch loss: 0.69627       \n",
      "Epoch 12: mean epoch loss: 0.741559, mean batch loss: 0.691567      \n",
      "Epoch 13: mean epoch loss: 0.735087, mean batch loss: 0.688197      \n",
      "Epoch 14: mean epoch loss: 0.731456, mean batch loss: 0.686046      \n",
      "Epoch 15: mean epoch loss: 0.729568, mean batch loss: 0.684645      \n",
      "Epoch 16: mean epoch loss: 0.726833, mean batch loss: 0.682522      \n",
      "Epoch 17: mean epoch loss: 0.724795, mean batch loss: 0.680091      \n",
      "Epoch 18: mean epoch loss: 0.723776, mean batch loss: 0.678401      \n",
      "Epoch 19: mean epoch loss: 0.723094, mean batch loss: 0.67768       \n",
      "Epoch 20: mean epoch loss: 0.723168, mean batch loss: 0.676891      \n",
      "Epoch 21: mean epoch loss: 0.72187, mean batch loss: 0.676129       \n",
      "Epoch 22: mean epoch loss: 0.720981, mean batch loss: 0.674303      \n",
      "Epoch 23: mean epoch loss: 0.720369, mean batch loss: 0.672913      \n",
      "Epoch 24: mean epoch loss: 0.720219, mean batch loss: 0.671895      \n",
      "Epoch 25: mean epoch loss: 0.720467, mean batch loss: 0.670872      \n",
      "Epoch 26: mean epoch loss: 0.72017, mean batch loss: 0.669865       \n",
      "Epoch 27: mean epoch loss: 0.719505, mean batch loss: 0.668744      \n",
      "Epoch 28: mean epoch loss: 0.719141, mean batch loss: 0.667936      \n",
      "Epoch 29: mean epoch loss: 0.718694, mean batch loss: 0.667134      \n",
      "Epoch 30: mean epoch loss: 0.717763, mean batch loss: 0.666283      \n",
      "Epoch 31: mean epoch loss: 0.717649, mean batch loss: 0.665603      \n",
      "0 / 2 : mean epoch loss: 0.592081, mean batch loss: 0.592081        \n",
      "=================================================\n",
      "\n",
      "*** Test Loss: 0.59086\n",
      "\n",
      "=================================================\n",
      "\n",
      "data/config/2018-01_v3_config.json"
     ]
    },
    {
     "name": "stderr",
     "output_type": "stream",
     "text": [
      "INFO:lib.vocab: 2737 vocab loaded from data/vocab/2018-01_vocab.csv\n"
     ]
    },
    {
     "name": "stdout",
     "output_type": "stream",
     "text": [
      "\n",
      "\n",
      "\n",
      "TRAINING\n",
      "\n",
      "\n"
     ]
    },
    {
     "name": "stderr",
     "output_type": "stream",
     "text": [
      "INFO:lib.loader: 1125 instances loaded from data/dev/2018-01_train.csv\n",
      "INFO:lib.loader: 300 instances loaded from data/dev/2018-01_dev.csv\n",
      "INFO:lib.loader: 75 instances loaded from data/in_sample_test/2018-01_test.csv\n",
      "INFO:lib.model: train(2313), dev(576), test(75).\n"
     ]
    },
    {
     "name": "stdout",
     "output_type": "stream",
     "text": [
      "0 771\n",
      "1 241\n",
      "2 113\n",
      "oversample from 1125 to 2313\n",
      "0 192\n",
      "1 84\n",
      "2 24\n",
      "oversample from 300 to 576\n",
      "Epoch 0\n",
      "Epoch 1 : mean epoch loss: 1.0735, mean batch loss: 1.06766       \n",
      "Epoch 2 : mean epoch loss: 1.03611, mean batch loss: 1.02652      \n",
      "Epoch 3 : mean epoch loss: 0.985648, mean batch loss: 0.971894      \n",
      "Epoch 4 : mean epoch loss: 0.931319, mean batch loss: 0.915655      \n",
      "Epoch 5 : mean epoch loss: 0.884213, mean batch loss: 0.866909      \n",
      "Epoch 6 : mean epoch loss: 0.847442, mean batch loss: 0.828357      \n",
      "Epoch 7 : mean epoch loss: 0.82154, mean batch loss: 0.799592       \n",
      "Epoch 8 : mean epoch loss: 0.803687, mean batch loss: 0.777035      \n",
      "Epoch 9 : mean epoch loss: 0.790844, mean batch loss: 0.758091      \n",
      "Epoch 10: mean epoch loss: 0.781831, mean batch loss: 0.742778      \n",
      "Epoch 11: mean epoch loss: 0.775777, mean batch loss: 0.729642      \n",
      "Epoch 12: mean epoch loss: 0.771252, mean batch loss: 0.719613      \n",
      "Epoch 13: mean epoch loss: 0.768266, mean batch loss: 0.711746      \n",
      "Epoch 14: mean epoch loss: 0.766476, mean batch loss: 0.70544       \n",
      "Epoch 15: mean epoch loss: 0.765696, mean batch loss: 0.700905      \n",
      "Epoch 16: mean epoch loss: 0.76484, mean batch loss: 0.697161       \n",
      "Epoch 17: mean epoch loss: 0.76478, mean batch loss: 0.695411       \n",
      "Epoch 18: mean epoch loss: 0.764424, mean batch loss: 0.69244       \n",
      "Epoch 19: mean epoch loss: 0.764672, mean batch loss: 0.691562      \n",
      "Epoch 20: mean epoch loss: 0.764214, mean batch loss: 0.690515      \n",
      "Epoch 21: mean epoch loss: 0.764432, mean batch loss: 0.690671      \n",
      "Epoch 22: mean epoch loss: 0.764321, mean batch loss: 0.689689      \n",
      "Epoch 23: mean epoch loss: 0.765016, mean batch loss: 0.689299      \n",
      "best epoch(19): train loss: 0.569071\t\tdev loss: 0.754352688754      \n",
      "0 / 2 : mean epoch loss: 0.640316, mean batch loss: 0.640316      \n",
      "=================================================\n",
      "\n",
      "*** Test Loss: 0.63065\n",
      "\n",
      "=================================================\n",
      "\n",
      "data/config/2018-01_v4_config.json\n",
      "\n",
      "\n",
      "TRAINING\n",
      "\n",
      "\n"
     ]
    },
    {
     "name": "stderr",
     "output_type": "stream",
     "text": [
      "INFO:lib.vocab: 2737 vocab loaded from data/vocab/2018-01_vocab.csv\n",
      "INFO:lib.loader: 1125 instances loaded from data/dev/2018-01_train.csv\n",
      "INFO:lib.loader: 300 instances loaded from data/dev/2018-01_dev.csv\n",
      "INFO:lib.loader: 75 instances loaded from data/in_sample_test/2018-01_test.csv\n",
      "INFO:lib.model: train(2313), dev(576), test(75).\n"
     ]
    },
    {
     "name": "stdout",
     "output_type": "stream",
     "text": [
      "0 771\n",
      "1 241\n",
      "2 113\n",
      "oversample from 1125 to 2313\n",
      "0 192\n",
      "1 84\n",
      "2 24\n",
      "oversample from 300 to 576\n",
      "Epoch 0\n",
      "Epoch 1 : mean epoch loss: 1.07587, mean batch loss: 1.06967      \n",
      "Epoch 2 : mean epoch loss: 1.04274, mean batch loss: 1.02647      \n",
      "Epoch 3 : mean epoch loss: 1.00132, mean batch loss: 0.975158      \n",
      "Epoch 4 : mean epoch loss: 0.953808, mean batch loss: 0.917619      \n",
      "Epoch 5 : mean epoch loss: 0.901317, mean batch loss: 0.855069      \n",
      "Epoch 6 : mean epoch loss: 0.851514, mean batch loss: 0.798336      \n",
      "Epoch 7 : mean epoch loss: 0.811257, mean batch loss: 0.754089      \n",
      "Epoch 8 : mean epoch loss: 0.781979, mean batch loss: 0.722516      \n",
      "Epoch 9 : mean epoch loss: 0.761686, mean batch loss: 0.702459      \n",
      "Epoch 10: mean epoch loss: 0.747456, mean batch loss: 0.68781       \n",
      "Epoch 11: mean epoch loss: 0.737319, mean batch loss: 0.676716      \n",
      "Epoch 12: mean epoch loss: 0.73066, mean batch loss: 0.670585       \n",
      "Epoch 13: mean epoch loss: 0.725159, mean batch loss: 0.665091      \n",
      "Epoch 14: mean epoch loss: 0.7215, mean batch loss: 0.660948        \n",
      "Epoch 15: mean epoch loss: 0.717723, mean batch loss: 0.657617      \n",
      "Epoch 16: mean epoch loss: 0.715588, mean batch loss: 0.655085      \n",
      "Epoch 17: mean epoch loss: 0.713731, mean batch loss: 0.65293       \n",
      "Epoch 18: mean epoch loss: 0.712918, mean batch loss: 0.652164      \n",
      "Epoch 19: mean epoch loss: 0.712368, mean batch loss: 0.651029      \n",
      "Epoch 20: mean epoch loss: 0.711491, mean batch loss: 0.650257      \n",
      "Epoch 21: mean epoch loss: 0.711216, mean batch loss: 0.650026      \n",
      "Epoch 22: mean epoch loss: 0.711321, mean batch loss: 0.649919      \n",
      "Epoch 23: mean epoch loss: 0.711218, mean batch loss: 0.649133      \n",
      "Epoch 24: mean epoch loss: 0.711237, mean batch loss: 0.648683      \n",
      "Epoch 25: mean epoch loss: 0.710951, mean batch loss: 0.648017      \n",
      "Epoch 26: mean epoch loss: 0.710206, mean batch loss: 0.647253      \n",
      "Epoch 27: mean epoch loss: 0.710542, mean batch loss: 0.646702      \n",
      "Epoch 28: mean epoch loss: 0.710488, mean batch loss: 0.646237      \n",
      "Epoch 29: mean epoch loss: 0.709926, mean batch loss: 0.645726      \n",
      "Epoch 30: mean epoch loss: 0.709504, mean batch loss: 0.645589      \n",
      "Epoch 31: mean epoch loss: 0.709949, mean batch loss: 0.645414      \n",
      "0 / 2 : mean epoch loss: 0.67002, mean batch loss: 0.67002          \n",
      "=================================================\n",
      "\n",
      "*** Test Loss: 0.640307\n",
      "\n",
      "=================================================\n",
      "\n"
     ]
    }
   ],
   "source": [
    "meeting_list = ['2015-06', '2015-07', '2015-09', '2015-10', '2015-12',\n",
    "                        '2016-01', '2016-03', '2016-04', '2016-06', '2016-07', '2016-09', '2016-11', '2016-12',\n",
    "                        '2017-01', '2017-03', '2017-05', '2017-06', '2017-07', '2017-09', '2017-10', '2017-12',\n",
    "                        '2018-01']\n",
    "\n",
    "for meeting in meeting_list:\n",
    "    for i in xrange(5):\n",
    "        version = 'v' + str(i)\n",
    "        json = 'data/config/<meeting>_<version>_config.json'\n",
    "        json = json.replace('<meeting>', meeting)\n",
    "        json = json.replace('<version>', version)\n",
    "        print json\n",
    "        model = CNNModel(json)\n",
    "        model = model.train()\n"
   ]
  },
  {
   "cell_type": "markdown",
   "metadata": {},
   "source": [
    "<h3> 2. Test and Predict </h3>"
   ]
  },
  {
   "cell_type": "code",
   "execution_count": 3,
   "metadata": {
    "collapsed": false
   },
   "outputs": [
    {
     "name": "stderr",
     "output_type": "stream",
     "text": [
      "INFO:lib.vocab: 2453 vocab loaded from data/vocab/2017-10_vocab.csv\n"
     ]
    },
    {
     "name": "stdout",
     "output_type": "stream",
     "text": [
      "\n",
      "\n",
      "PREDICTING\n",
      "\n",
      "\n",
      "INFO:tensorflow:Restoring parameters from data/weights/2017-10_v0_weights_cnn\n"
     ]
    },
    {
     "name": "stderr",
     "output_type": "stream",
     "text": [
      "INFO:tensorflow:Restoring parameters from data/weights/2017-10_v0_weights_cnn\n",
      "INFO:lib.loader: 700 instances loaded from data/predict/2017-10.csv\n"
     ]
    },
    {
     "name": "stdout",
     "output_type": "stream",
     "text": [
      " done                                                                                no data_label\n"
     ]
    },
    {
     "name": "stderr",
     "output_type": "stream",
     "text": [
      "INFO:lib.vocab: 2453 vocab loaded from data/vocab/2017-10_vocab.csv\n"
     ]
    },
    {
     "name": "stdout",
     "output_type": "stream",
     "text": [
      "\n",
      "\n",
      "PREDICTING\n",
      "\n",
      "\n",
      "INFO:tensorflow:Restoring parameters from data/weights/2017-10_v0_weights_cnn\n"
     ]
    },
    {
     "name": "stderr",
     "output_type": "stream",
     "text": [
      "INFO:tensorflow:Restoring parameters from data/weights/2017-10_v0_weights_cnn\n",
      "INFO:lib.loader: 75 instances loaded from data/in_sample_test/2017-10_test.csv\n"
     ]
    },
    {
     "name": "stdout",
     "output_type": "stream",
     "text": [
      " done                                                                                "
     ]
    },
    {
     "name": "stderr",
     "output_type": "stream",
     "text": [
      "INFO:lib.vocab: 2453 vocab loaded from data/vocab/2017-10_vocab.csv\n"
     ]
    },
    {
     "name": "stdout",
     "output_type": "stream",
     "text": [
      "\n",
      "\n",
      "PREDICTING\n",
      "\n",
      "\n",
      "INFO:tensorflow:Restoring parameters from data/weights/2017-10_v0_weights_cnn\n"
     ]
    },
    {
     "name": "stderr",
     "output_type": "stream",
     "text": [
      "INFO:tensorflow:Restoring parameters from data/weights/2017-10_v0_weights_cnn\n",
      "INFO:lib.loader: 500 instances loaded from data/out_of_sample_test/2017-10.csv\n"
     ]
    },
    {
     "name": "stdout",
     "output_type": "stream",
     "text": [
      " done                                                                                "
     ]
    },
    {
     "name": "stderr",
     "output_type": "stream",
     "text": [
      "INFO:lib.vocab: 2453 vocab loaded from data/vocab/2017-10_vocab.csv\n"
     ]
    },
    {
     "name": "stdout",
     "output_type": "stream",
     "text": [
      "\n",
      "\n",
      "PREDICTING\n",
      "\n",
      "\n",
      "INFO:tensorflow:Restoring parameters from data/weights/2017-10_v1_weights_cnn\n"
     ]
    },
    {
     "name": "stderr",
     "output_type": "stream",
     "text": [
      "INFO:tensorflow:Restoring parameters from data/weights/2017-10_v1_weights_cnn\n",
      "INFO:lib.loader: 700 instances loaded from data/predict/2017-10.csv\n"
     ]
    },
    {
     "name": "stdout",
     "output_type": "stream",
     "text": [
      " done                                                                                "
     ]
    },
    {
     "name": "stderr",
     "output_type": "stream",
     "text": [
      "INFO:lib.vocab: 2453 vocab loaded from data/vocab/2017-10_vocab.csv\n"
     ]
    },
    {
     "name": "stdout",
     "output_type": "stream",
     "text": [
      "no data_label\n",
      "\n",
      "\n",
      "PREDICTING\n",
      "\n",
      "\n",
      "INFO:tensorflow:Restoring parameters from data/weights/2017-10_v1_weights_cnn\n"
     ]
    },
    {
     "name": "stderr",
     "output_type": "stream",
     "text": [
      "INFO:tensorflow:Restoring parameters from data/weights/2017-10_v1_weights_cnn\n",
      "INFO:lib.loader: 75 instances loaded from data/in_sample_test/2017-10_test.csv\n"
     ]
    },
    {
     "name": "stdout",
     "output_type": "stream",
     "text": [
      " done                                                                                "
     ]
    },
    {
     "name": "stderr",
     "output_type": "stream",
     "text": [
      "INFO:lib.vocab: 2453 vocab loaded from data/vocab/2017-10_vocab.csv\n"
     ]
    },
    {
     "name": "stdout",
     "output_type": "stream",
     "text": [
      "\n",
      "\n",
      "PREDICTING\n",
      "\n",
      "\n",
      "INFO:tensorflow:Restoring parameters from data/weights/2017-10_v1_weights_cnn\n"
     ]
    },
    {
     "name": "stderr",
     "output_type": "stream",
     "text": [
      "INFO:tensorflow:Restoring parameters from data/weights/2017-10_v1_weights_cnn\n",
      "INFO:lib.loader: 500 instances loaded from data/out_of_sample_test/2017-10.csv\n"
     ]
    },
    {
     "name": "stdout",
     "output_type": "stream",
     "text": [
      " done                                                                                \n",
      "\n",
      "PREDICTING\n",
      "\n",
      "\n"
     ]
    },
    {
     "name": "stderr",
     "output_type": "stream",
     "text": [
      "INFO:lib.vocab: 2453 vocab loaded from data/vocab/2017-10_vocab.csv\n"
     ]
    },
    {
     "name": "stdout",
     "output_type": "stream",
     "text": [
      "INFO:tensorflow:Restoring parameters from data/weights/2017-10_v2_weights_cnn\n"
     ]
    },
    {
     "name": "stderr",
     "output_type": "stream",
     "text": [
      "INFO:tensorflow:Restoring parameters from data/weights/2017-10_v2_weights_cnn\n",
      "INFO:lib.loader: 700 instances loaded from data/predict/2017-10.csv\n"
     ]
    },
    {
     "name": "stdout",
     "output_type": "stream",
     "text": [
      " done                                                                                no data_label\n"
     ]
    },
    {
     "name": "stderr",
     "output_type": "stream",
     "text": [
      "INFO:lib.vocab: 2453 vocab loaded from data/vocab/2017-10_vocab.csv\n"
     ]
    },
    {
     "name": "stdout",
     "output_type": "stream",
     "text": [
      "\n",
      "\n",
      "PREDICTING\n",
      "\n",
      "\n",
      "INFO:tensorflow:Restoring parameters from data/weights/2017-10_v2_weights_cnn\n"
     ]
    },
    {
     "name": "stderr",
     "output_type": "stream",
     "text": [
      "INFO:tensorflow:Restoring parameters from data/weights/2017-10_v2_weights_cnn\n",
      "INFO:lib.loader: 75 instances loaded from data/in_sample_test/2017-10_test.csv\n"
     ]
    },
    {
     "name": "stdout",
     "output_type": "stream",
     "text": [
      " done                                                                                "
     ]
    },
    {
     "name": "stderr",
     "output_type": "stream",
     "text": [
      "INFO:lib.vocab: 2453 vocab loaded from data/vocab/2017-10_vocab.csv\n"
     ]
    },
    {
     "name": "stdout",
     "output_type": "stream",
     "text": [
      "\n",
      "\n",
      "PREDICTING\n",
      "\n",
      "\n",
      "INFO:tensorflow:Restoring parameters from data/weights/2017-10_v2_weights_cnn\n"
     ]
    },
    {
     "name": "stderr",
     "output_type": "stream",
     "text": [
      "INFO:tensorflow:Restoring parameters from data/weights/2017-10_v2_weights_cnn\n",
      "INFO:lib.loader: 500 instances loaded from data/out_of_sample_test/2017-10.csv\n"
     ]
    },
    {
     "name": "stdout",
     "output_type": "stream",
     "text": [
      " done                                                                                "
     ]
    },
    {
     "name": "stderr",
     "output_type": "stream",
     "text": [
      "INFO:lib.vocab: 2453 vocab loaded from data/vocab/2017-10_vocab.csv\n"
     ]
    },
    {
     "name": "stdout",
     "output_type": "stream",
     "text": [
      "\n",
      "\n",
      "PREDICTING\n",
      "\n",
      "\n",
      "INFO:tensorflow:Restoring parameters from data/weights/2017-10_v3_weights_cnn\n"
     ]
    },
    {
     "name": "stderr",
     "output_type": "stream",
     "text": [
      "INFO:tensorflow:Restoring parameters from data/weights/2017-10_v3_weights_cnn\n",
      "INFO:lib.loader: 700 instances loaded from data/predict/2017-10.csv\n"
     ]
    },
    {
     "name": "stdout",
     "output_type": "stream",
     "text": [
      " done                                                                                no data_label\n"
     ]
    },
    {
     "name": "stderr",
     "output_type": "stream",
     "text": [
      "INFO:lib.vocab: 2453 vocab loaded from data/vocab/2017-10_vocab.csv\n"
     ]
    },
    {
     "name": "stdout",
     "output_type": "stream",
     "text": [
      "\n",
      "\n",
      "PREDICTING\n",
      "\n",
      "\n",
      "INFO:tensorflow:Restoring parameters from data/weights/2017-10_v3_weights_cnn\n"
     ]
    },
    {
     "name": "stderr",
     "output_type": "stream",
     "text": [
      "INFO:tensorflow:Restoring parameters from data/weights/2017-10_v3_weights_cnn\n",
      "INFO:lib.loader: 75 instances loaded from data/in_sample_test/2017-10_test.csv\n"
     ]
    },
    {
     "name": "stdout",
     "output_type": "stream",
     "text": [
      " done                                                                                "
     ]
    },
    {
     "name": "stderr",
     "output_type": "stream",
     "text": [
      "INFO:lib.vocab: 2453 vocab loaded from data/vocab/2017-10_vocab.csv\n"
     ]
    },
    {
     "name": "stdout",
     "output_type": "stream",
     "text": [
      "\n",
      "\n",
      "PREDICTING\n",
      "\n",
      "\n",
      "INFO:tensorflow:Restoring parameters from data/weights/2017-10_v3_weights_cnn\n"
     ]
    },
    {
     "name": "stderr",
     "output_type": "stream",
     "text": [
      "INFO:tensorflow:Restoring parameters from data/weights/2017-10_v3_weights_cnn\n",
      "INFO:lib.loader: 500 instances loaded from data/out_of_sample_test/2017-10.csv\n"
     ]
    },
    {
     "name": "stdout",
     "output_type": "stream",
     "text": [
      " done                                                                                "
     ]
    },
    {
     "name": "stderr",
     "output_type": "stream",
     "text": [
      "INFO:lib.vocab: 2453 vocab loaded from data/vocab/2017-10_vocab.csv\n"
     ]
    },
    {
     "name": "stdout",
     "output_type": "stream",
     "text": [
      "\n",
      "\n",
      "PREDICTING\n",
      "\n",
      "\n",
      "INFO:tensorflow:Restoring parameters from data/weights/2017-10_v4_weights_cnn\n"
     ]
    },
    {
     "name": "stderr",
     "output_type": "stream",
     "text": [
      "INFO:tensorflow:Restoring parameters from data/weights/2017-10_v4_weights_cnn\n",
      "INFO:lib.loader: 700 instances loaded from data/predict/2017-10.csv\n"
     ]
    },
    {
     "name": "stdout",
     "output_type": "stream",
     "text": [
      " done                                                                                "
     ]
    },
    {
     "name": "stderr",
     "output_type": "stream",
     "text": [
      "INFO:lib.vocab: 2453 vocab loaded from data/vocab/2017-10_vocab.csv\n"
     ]
    },
    {
     "name": "stdout",
     "output_type": "stream",
     "text": [
      "no data_label\n",
      "\n",
      "\n",
      "PREDICTING\n",
      "\n",
      "\n",
      "INFO:tensorflow:Restoring parameters from data/weights/2017-10_v4_weights_cnn\n"
     ]
    },
    {
     "name": "stderr",
     "output_type": "stream",
     "text": [
      "INFO:tensorflow:Restoring parameters from data/weights/2017-10_v4_weights_cnn\n",
      "INFO:lib.loader: 75 instances loaded from data/in_sample_test/2017-10_test.csv\n"
     ]
    },
    {
     "name": "stdout",
     "output_type": "stream",
     "text": [
      " done                                                                                "
     ]
    },
    {
     "name": "stderr",
     "output_type": "stream",
     "text": [
      "INFO:lib.vocab: 2453 vocab loaded from data/vocab/2017-10_vocab.csv\n"
     ]
    },
    {
     "name": "stdout",
     "output_type": "stream",
     "text": [
      "\n",
      "\n",
      "PREDICTING\n",
      "\n",
      "\n",
      "INFO:tensorflow:Restoring parameters from data/weights/2017-10_v4_weights_cnn\n"
     ]
    },
    {
     "name": "stderr",
     "output_type": "stream",
     "text": [
      "INFO:tensorflow:Restoring parameters from data/weights/2017-10_v4_weights_cnn\n",
      "INFO:lib.loader: 500 instances loaded from data/out_of_sample_test/2017-10.csv\n"
     ]
    },
    {
     "name": "stdout",
     "output_type": "stream",
     "text": [
      " done                                                                                Meeting 2017-10 \n",
      " Accuracy is  0.92 \n",
      " Recall: a rate hike -- 0.93, no rate hike -- 0.50, no opinion --  0.93. \n",
      " Precision: rate hike --  0.78, no rate hike --  1.00, no opinion -- 0.96. \n",
      "\n",
      "\n",
      "Meeting 2017-10 \n",
      " Accuracy is  0.60 \n",
      " Recall: a rate hike -- 0.79, no rate hike -- 0.29, no opinion --  0.69. \n",
      " Precision: rate hike --  0.13, no rate hike --  0.94, no opinion -- 0.89. \n",
      "\n",
      "\n"
     ]
    },
    {
     "name": "stderr",
     "output_type": "stream",
     "text": [
      "/Users/stephanie/anaconda/lib/python2.7/site-packages/pandas/computation/expressions.py:182: UserWarning: evaluating in Python space because the '*' operator is not supported by numexpr for the bool dtype, use '&' instead\n",
      "  unsupported[op_str]))\n",
      "INFO:lib.vocab: 3904 vocab loaded from data/vocab/2017-12_vocab.csv\n"
     ]
    },
    {
     "name": "stdout",
     "output_type": "stream",
     "text": [
      "\n",
      "\n",
      "PREDICTING\n",
      "\n",
      "\n",
      "INFO:tensorflow:Restoring parameters from data/weights/2017-12_v0_weights_cnn\n"
     ]
    },
    {
     "name": "stderr",
     "output_type": "stream",
     "text": [
      "INFO:tensorflow:Restoring parameters from data/weights/2017-12_v0_weights_cnn\n",
      "INFO:lib.loader: 2860 instances loaded from data/predict/2017-12.csv\n"
     ]
    },
    {
     "name": "stdout",
     "output_type": "stream",
     "text": [
      " done                                                                                no data_label\n"
     ]
    },
    {
     "name": "stderr",
     "output_type": "stream",
     "text": [
      "INFO:lib.vocab: 3904 vocab loaded from data/vocab/2017-12_vocab.csv\n"
     ]
    },
    {
     "name": "stdout",
     "output_type": "stream",
     "text": [
      "\n",
      "\n",
      "PREDICTING\n",
      "\n",
      "\n",
      "INFO:tensorflow:Restoring parameters from data/weights/2017-12_v0_weights_cnn\n"
     ]
    },
    {
     "name": "stderr",
     "output_type": "stream",
     "text": [
      "INFO:tensorflow:Restoring parameters from data/weights/2017-12_v0_weights_cnn\n",
      "INFO:lib.loader: 75 instances loaded from data/in_sample_test/2017-12_test.csv\n"
     ]
    },
    {
     "name": "stdout",
     "output_type": "stream",
     "text": [
      " done                                                                                "
     ]
    },
    {
     "name": "stderr",
     "output_type": "stream",
     "text": [
      "INFO:lib.vocab: 3904 vocab loaded from data/vocab/2017-12_vocab.csv\n"
     ]
    },
    {
     "name": "stdout",
     "output_type": "stream",
     "text": [
      "\n",
      "\n",
      "PREDICTING\n",
      "\n",
      "\n",
      "INFO:tensorflow:Restoring parameters from data/weights/2017-12_v0_weights_cnn\n"
     ]
    },
    {
     "name": "stderr",
     "output_type": "stream",
     "text": [
      "INFO:tensorflow:Restoring parameters from data/weights/2017-12_v0_weights_cnn\n",
      "INFO:lib.loader: 500 instances loaded from data/out_of_sample_test/2017-12.csv\n"
     ]
    },
    {
     "name": "stdout",
     "output_type": "stream",
     "text": [
      " done                                                                                \n",
      "\n",
      "PREDICTING\n",
      "\n",
      "\n"
     ]
    },
    {
     "name": "stderr",
     "output_type": "stream",
     "text": [
      "INFO:lib.vocab: 3904 vocab loaded from data/vocab/2017-12_vocab.csv\n"
     ]
    },
    {
     "name": "stdout",
     "output_type": "stream",
     "text": [
      "INFO:tensorflow:Restoring parameters from data/weights/2017-12_v1_weights_cnn\n"
     ]
    },
    {
     "name": "stderr",
     "output_type": "stream",
     "text": [
      "INFO:tensorflow:Restoring parameters from data/weights/2017-12_v1_weights_cnn\n",
      "INFO:lib.loader: 2860 instances loaded from data/predict/2017-12.csv\n"
     ]
    },
    {
     "name": "stdout",
     "output_type": "stream",
     "text": [
      " done                                                                                "
     ]
    },
    {
     "name": "stderr",
     "output_type": "stream",
     "text": [
      "INFO:lib.vocab: 3904 vocab loaded from data/vocab/2017-12_vocab.csv\n"
     ]
    },
    {
     "name": "stdout",
     "output_type": "stream",
     "text": [
      "no data_label\n",
      "\n",
      "\n",
      "PREDICTING\n",
      "\n",
      "\n",
      "INFO:tensorflow:Restoring parameters from data/weights/2017-12_v1_weights_cnn\n"
     ]
    },
    {
     "name": "stderr",
     "output_type": "stream",
     "text": [
      "INFO:tensorflow:Restoring parameters from data/weights/2017-12_v1_weights_cnn\n",
      "INFO:lib.loader: 75 instances loaded from data/in_sample_test/2017-12_test.csv\n"
     ]
    },
    {
     "name": "stdout",
     "output_type": "stream",
     "text": [
      " done                                                                                "
     ]
    },
    {
     "name": "stderr",
     "output_type": "stream",
     "text": [
      "INFO:lib.vocab: 3904 vocab loaded from data/vocab/2017-12_vocab.csv\n"
     ]
    },
    {
     "name": "stdout",
     "output_type": "stream",
     "text": [
      "\n",
      "\n",
      "PREDICTING\n",
      "\n",
      "\n",
      "INFO:tensorflow:Restoring parameters from data/weights/2017-12_v1_weights_cnn\n"
     ]
    },
    {
     "name": "stderr",
     "output_type": "stream",
     "text": [
      "INFO:tensorflow:Restoring parameters from data/weights/2017-12_v1_weights_cnn\n",
      "INFO:lib.loader: 500 instances loaded from data/out_of_sample_test/2017-12.csv\n"
     ]
    },
    {
     "name": "stdout",
     "output_type": "stream",
     "text": [
      " done                                                                                "
     ]
    },
    {
     "name": "stderr",
     "output_type": "stream",
     "text": [
      "INFO:lib.vocab: 3904 vocab loaded from data/vocab/2017-12_vocab.csv\n"
     ]
    },
    {
     "name": "stdout",
     "output_type": "stream",
     "text": [
      "\n",
      "\n",
      "PREDICTING\n",
      "\n",
      "\n",
      "INFO:tensorflow:Restoring parameters from data/weights/2017-12_v2_weights_cnn\n"
     ]
    },
    {
     "name": "stderr",
     "output_type": "stream",
     "text": [
      "INFO:tensorflow:Restoring parameters from data/weights/2017-12_v2_weights_cnn\n",
      "INFO:lib.loader: 2860 instances loaded from data/predict/2017-12.csv\n"
     ]
    },
    {
     "name": "stdout",
     "output_type": "stream",
     "text": [
      " done                                                                                no data_label\n"
     ]
    },
    {
     "name": "stderr",
     "output_type": "stream",
     "text": [
      "INFO:lib.vocab: 3904 vocab loaded from data/vocab/2017-12_vocab.csv\n"
     ]
    },
    {
     "name": "stdout",
     "output_type": "stream",
     "text": [
      "\n",
      "\n",
      "PREDICTING\n",
      "\n",
      "\n",
      "INFO:tensorflow:Restoring parameters from data/weights/2017-12_v2_weights_cnn\n"
     ]
    },
    {
     "name": "stderr",
     "output_type": "stream",
     "text": [
      "INFO:tensorflow:Restoring parameters from data/weights/2017-12_v2_weights_cnn\n",
      "INFO:lib.loader: 75 instances loaded from data/in_sample_test/2017-12_test.csv\n"
     ]
    },
    {
     "name": "stdout",
     "output_type": "stream",
     "text": [
      " done                                                                                "
     ]
    },
    {
     "name": "stderr",
     "output_type": "stream",
     "text": [
      "INFO:lib.vocab: 3904 vocab loaded from data/vocab/2017-12_vocab.csv\n"
     ]
    },
    {
     "name": "stdout",
     "output_type": "stream",
     "text": [
      "\n",
      "\n",
      "PREDICTING\n",
      "\n",
      "\n",
      "INFO:tensorflow:Restoring parameters from data/weights/2017-12_v2_weights_cnn\n"
     ]
    },
    {
     "name": "stderr",
     "output_type": "stream",
     "text": [
      "INFO:tensorflow:Restoring parameters from data/weights/2017-12_v2_weights_cnn\n",
      "INFO:lib.loader: 500 instances loaded from data/out_of_sample_test/2017-12.csv\n"
     ]
    },
    {
     "name": "stdout",
     "output_type": "stream",
     "text": [
      " done                                                                                "
     ]
    },
    {
     "name": "stderr",
     "output_type": "stream",
     "text": [
      "INFO:lib.vocab: 3904 vocab loaded from data/vocab/2017-12_vocab.csv\n"
     ]
    },
    {
     "name": "stdout",
     "output_type": "stream",
     "text": [
      "\n",
      "\n",
      "PREDICTING\n",
      "\n",
      "\n",
      "INFO:tensorflow:Restoring parameters from data/weights/2017-12_v3_weights_cnn\n"
     ]
    },
    {
     "name": "stderr",
     "output_type": "stream",
     "text": [
      "INFO:tensorflow:Restoring parameters from data/weights/2017-12_v3_weights_cnn\n",
      "INFO:lib.loader: 2860 instances loaded from data/predict/2017-12.csv\n"
     ]
    },
    {
     "name": "stdout",
     "output_type": "stream",
     "text": [
      " done                                                                                no data_label\n"
     ]
    },
    {
     "name": "stderr",
     "output_type": "stream",
     "text": [
      "INFO:lib.vocab: 3904 vocab loaded from data/vocab/2017-12_vocab.csv\n"
     ]
    },
    {
     "name": "stdout",
     "output_type": "stream",
     "text": [
      "\n",
      "\n",
      "PREDICTING\n",
      "\n",
      "\n",
      "INFO:tensorflow:Restoring parameters from data/weights/2017-12_v3_weights_cnn\n"
     ]
    },
    {
     "name": "stderr",
     "output_type": "stream",
     "text": [
      "INFO:tensorflow:Restoring parameters from data/weights/2017-12_v3_weights_cnn\n",
      "INFO:lib.loader: 75 instances loaded from data/in_sample_test/2017-12_test.csv\n"
     ]
    },
    {
     "name": "stdout",
     "output_type": "stream",
     "text": [
      " done                                                                                "
     ]
    },
    {
     "name": "stderr",
     "output_type": "stream",
     "text": [
      "INFO:lib.vocab: 3904 vocab loaded from data/vocab/2017-12_vocab.csv\n"
     ]
    },
    {
     "name": "stdout",
     "output_type": "stream",
     "text": [
      "\n",
      "\n",
      "PREDICTING\n",
      "\n",
      "\n",
      "INFO:tensorflow:Restoring parameters from data/weights/2017-12_v3_weights_cnn\n"
     ]
    },
    {
     "name": "stderr",
     "output_type": "stream",
     "text": [
      "INFO:tensorflow:Restoring parameters from data/weights/2017-12_v3_weights_cnn\n",
      "INFO:lib.loader: 500 instances loaded from data/out_of_sample_test/2017-12.csv\n"
     ]
    },
    {
     "name": "stdout",
     "output_type": "stream",
     "text": [
      " done                                                                                "
     ]
    },
    {
     "name": "stderr",
     "output_type": "stream",
     "text": [
      "INFO:lib.vocab: 3904 vocab loaded from data/vocab/2017-12_vocab.csv\n"
     ]
    },
    {
     "name": "stdout",
     "output_type": "stream",
     "text": [
      "\n",
      "\n",
      "PREDICTING\n",
      "\n",
      "\n",
      "INFO:tensorflow:Restoring parameters from data/weights/2017-12_v4_weights_cnn\n"
     ]
    },
    {
     "name": "stderr",
     "output_type": "stream",
     "text": [
      "INFO:tensorflow:Restoring parameters from data/weights/2017-12_v4_weights_cnn\n",
      "INFO:lib.loader: 2860 instances loaded from data/predict/2017-12.csv\n"
     ]
    },
    {
     "name": "stdout",
     "output_type": "stream",
     "text": [
      " done                                                                                no data_label\n",
      "\n",
      "\n",
      "PREDICTING\n",
      "\n"
     ]
    },
    {
     "name": "stderr",
     "output_type": "stream",
     "text": [
      "INFO:lib.vocab: 3904 vocab loaded from data/vocab/2017-12_vocab.csv\n"
     ]
    },
    {
     "name": "stdout",
     "output_type": "stream",
     "text": [
      "\n",
      "INFO:tensorflow:Restoring parameters from data/weights/2017-12_v4_weights_cnn\n"
     ]
    },
    {
     "name": "stderr",
     "output_type": "stream",
     "text": [
      "INFO:tensorflow:Restoring parameters from data/weights/2017-12_v4_weights_cnn\n",
      "INFO:lib.loader: 75 instances loaded from data/in_sample_test/2017-12_test.csv\n"
     ]
    },
    {
     "name": "stdout",
     "output_type": "stream",
     "text": [
      " done                                                                                "
     ]
    },
    {
     "name": "stderr",
     "output_type": "stream",
     "text": [
      "INFO:lib.vocab: 3904 vocab loaded from data/vocab/2017-12_vocab.csv\n"
     ]
    },
    {
     "name": "stdout",
     "output_type": "stream",
     "text": [
      "\n",
      "\n",
      "PREDICTING\n",
      "\n",
      "\n",
      "INFO:tensorflow:Restoring parameters from data/weights/2017-12_v4_weights_cnn\n"
     ]
    },
    {
     "name": "stderr",
     "output_type": "stream",
     "text": [
      "INFO:tensorflow:Restoring parameters from data/weights/2017-12_v4_weights_cnn\n",
      "INFO:lib.loader: 500 instances loaded from data/out_of_sample_test/2017-12.csv\n"
     ]
    },
    {
     "name": "stdout",
     "output_type": "stream",
     "text": [
      " done                                                                                Meeting 2017-12 \n",
      " Accuracy is  0.91 \n",
      " Recall: a rate hike -- 1.00, no rate hike -- 0.91, no opinion --  0.89. \n",
      " Precision: rate hike --  0.70, no rate hike --  0.77, no opinion -- 0.98. \n",
      "\n",
      "\n",
      "Meeting 2017-12 \n",
      " Accuracy is  0.39 \n",
      " Recall: a rate hike -- 0.04, no rate hike -- nan, no opinion --  0.83. \n",
      " Precision: rate hike --  0.37, no rate hike --  0.00, no opinion -- 0.49. \n",
      "\n",
      "\n"
     ]
    },
    {
     "name": "stderr",
     "output_type": "stream",
     "text": [
      "lib/tools.py:71: RuntimeWarning: invalid value encountered in long_scalars\n",
      "  recall_nh = np.sum(recall_nh) / np.sum(df_full['Annotation'] == -1)\n",
      "INFO:lib.vocab: 2737 vocab loaded from data/vocab/2018-01_vocab.csv\n"
     ]
    },
    {
     "name": "stdout",
     "output_type": "stream",
     "text": [
      "\n",
      "\n",
      "PREDICTING\n",
      "\n",
      "\n",
      "INFO:tensorflow:Restoring parameters from data/weights/2018-01_v0_weights_cnn\n"
     ]
    },
    {
     "name": "stderr",
     "output_type": "stream",
     "text": [
      "INFO:tensorflow:Restoring parameters from data/weights/2018-01_v0_weights_cnn\n",
      "INFO:lib.loader: 2270 instances loaded from data/predict/2018-01.csv\n"
     ]
    },
    {
     "name": "stdout",
     "output_type": "stream",
     "text": [
      " done                                                                                "
     ]
    },
    {
     "name": "stderr",
     "output_type": "stream",
     "text": [
      "INFO:lib.vocab: 2737 vocab loaded from data/vocab/2018-01_vocab.csv\n"
     ]
    },
    {
     "name": "stdout",
     "output_type": "stream",
     "text": [
      "no data_label\n",
      "\n",
      "\n",
      "PREDICTING\n",
      "\n",
      "\n",
      "INFO:tensorflow:Restoring parameters from data/weights/2018-01_v0_weights_cnn\n"
     ]
    },
    {
     "name": "stderr",
     "output_type": "stream",
     "text": [
      "INFO:tensorflow:Restoring parameters from data/weights/2018-01_v0_weights_cnn\n",
      "INFO:lib.loader: 75 instances loaded from data/in_sample_test/2018-01_test.csv\n"
     ]
    },
    {
     "name": "stdout",
     "output_type": "stream",
     "text": [
      " done                                                                                "
     ]
    },
    {
     "name": "stderr",
     "output_type": "stream",
     "text": [
      "INFO:lib.vocab: 2737 vocab loaded from data/vocab/2018-01_vocab.csv\n"
     ]
    },
    {
     "name": "stdout",
     "output_type": "stream",
     "text": [
      "\n",
      "\n",
      "PREDICTING\n",
      "\n",
      "\n",
      "INFO:tensorflow:Restoring parameters from data/weights/2018-01_v0_weights_cnn\n"
     ]
    },
    {
     "name": "stderr",
     "output_type": "stream",
     "text": [
      "INFO:tensorflow:Restoring parameters from data/weights/2018-01_v0_weights_cnn\n",
      "INFO:lib.loader: 500 instances loaded from data/out_of_sample_test/2018-01.csv\n"
     ]
    },
    {
     "name": "stdout",
     "output_type": "stream",
     "text": [
      " done                                                                                "
     ]
    },
    {
     "name": "stderr",
     "output_type": "stream",
     "text": [
      "INFO:lib.vocab: 2737 vocab loaded from data/vocab/2018-01_vocab.csv\n"
     ]
    },
    {
     "name": "stdout",
     "output_type": "stream",
     "text": [
      "\n",
      "\n",
      "PREDICTING\n",
      "\n",
      "\n",
      "INFO:tensorflow:Restoring parameters from data/weights/2018-01_v1_weights_cnn\n"
     ]
    },
    {
     "name": "stderr",
     "output_type": "stream",
     "text": [
      "INFO:tensorflow:Restoring parameters from data/weights/2018-01_v1_weights_cnn\n",
      "INFO:lib.loader: 2270 instances loaded from data/predict/2018-01.csv\n"
     ]
    },
    {
     "name": "stdout",
     "output_type": "stream",
     "text": [
      " done                                                                                no data_label\n"
     ]
    },
    {
     "name": "stderr",
     "output_type": "stream",
     "text": [
      "INFO:lib.vocab: 2737 vocab loaded from data/vocab/2018-01_vocab.csv\n"
     ]
    },
    {
     "name": "stdout",
     "output_type": "stream",
     "text": [
      "\n",
      "\n",
      "PREDICTING\n",
      "\n",
      "\n",
      "INFO:tensorflow:Restoring parameters from data/weights/2018-01_v1_weights_cnn\n"
     ]
    },
    {
     "name": "stderr",
     "output_type": "stream",
     "text": [
      "INFO:tensorflow:Restoring parameters from data/weights/2018-01_v1_weights_cnn\n",
      "INFO:lib.loader: 75 instances loaded from data/in_sample_test/2018-01_test.csv\n"
     ]
    },
    {
     "name": "stdout",
     "output_type": "stream",
     "text": [
      " done                                                                                "
     ]
    },
    {
     "name": "stderr",
     "output_type": "stream",
     "text": [
      "INFO:lib.vocab: 2737 vocab loaded from data/vocab/2018-01_vocab.csv\n"
     ]
    },
    {
     "name": "stdout",
     "output_type": "stream",
     "text": [
      "\n",
      "\n",
      "PREDICTING\n",
      "\n",
      "\n",
      "INFO:tensorflow:Restoring parameters from data/weights/2018-01_v1_weights_cnn\n"
     ]
    },
    {
     "name": "stderr",
     "output_type": "stream",
     "text": [
      "INFO:tensorflow:Restoring parameters from data/weights/2018-01_v1_weights_cnn\n",
      "INFO:lib.loader: 500 instances loaded from data/out_of_sample_test/2018-01.csv\n"
     ]
    },
    {
     "name": "stdout",
     "output_type": "stream",
     "text": [
      " done                                                                                "
     ]
    },
    {
     "name": "stderr",
     "output_type": "stream",
     "text": [
      "INFO:lib.vocab: 2737 vocab loaded from data/vocab/2018-01_vocab.csv\n"
     ]
    },
    {
     "name": "stdout",
     "output_type": "stream",
     "text": [
      "\n",
      "\n",
      "PREDICTING\n",
      "\n",
      "\n",
      "INFO:tensorflow:Restoring parameters from data/weights/2018-01_v2_weights_cnn\n"
     ]
    },
    {
     "name": "stderr",
     "output_type": "stream",
     "text": [
      "INFO:tensorflow:Restoring parameters from data/weights/2018-01_v2_weights_cnn\n",
      "INFO:lib.loader: 2270 instances loaded from data/predict/2018-01.csv\n"
     ]
    },
    {
     "name": "stdout",
     "output_type": "stream",
     "text": [
      " done                                                                                "
     ]
    },
    {
     "name": "stderr",
     "output_type": "stream",
     "text": [
      "INFO:lib.vocab: 2737 vocab loaded from data/vocab/2018-01_vocab.csv\n"
     ]
    },
    {
     "name": "stdout",
     "output_type": "stream",
     "text": [
      "no data_label\n",
      "\n",
      "\n",
      "PREDICTING\n",
      "\n",
      "\n",
      "INFO:tensorflow:Restoring parameters from data/weights/2018-01_v2_weights_cnn\n"
     ]
    },
    {
     "name": "stderr",
     "output_type": "stream",
     "text": [
      "INFO:tensorflow:Restoring parameters from data/weights/2018-01_v2_weights_cnn\n",
      "INFO:lib.loader: 75 instances loaded from data/in_sample_test/2018-01_test.csv\n"
     ]
    },
    {
     "name": "stdout",
     "output_type": "stream",
     "text": [
      " done                                                                                "
     ]
    },
    {
     "name": "stderr",
     "output_type": "stream",
     "text": [
      "INFO:lib.vocab: 2737 vocab loaded from data/vocab/2018-01_vocab.csv\n"
     ]
    },
    {
     "name": "stdout",
     "output_type": "stream",
     "text": [
      "\n",
      "\n",
      "PREDICTING\n",
      "\n",
      "\n",
      "INFO:tensorflow:Restoring parameters from data/weights/2018-01_v2_weights_cnn\n"
     ]
    },
    {
     "name": "stderr",
     "output_type": "stream",
     "text": [
      "INFO:tensorflow:Restoring parameters from data/weights/2018-01_v2_weights_cnn\n",
      "INFO:lib.loader: 500 instances loaded from data/out_of_sample_test/2018-01.csv\n"
     ]
    },
    {
     "name": "stdout",
     "output_type": "stream",
     "text": [
      " done                                                                                "
     ]
    },
    {
     "name": "stderr",
     "output_type": "stream",
     "text": [
      "INFO:lib.vocab: 2737 vocab loaded from data/vocab/2018-01_vocab.csv\n"
     ]
    },
    {
     "name": "stdout",
     "output_type": "stream",
     "text": [
      "\n",
      "\n",
      "PREDICTING\n",
      "\n",
      "\n",
      "INFO:tensorflow:Restoring parameters from data/weights/2018-01_v3_weights_cnn\n"
     ]
    },
    {
     "name": "stderr",
     "output_type": "stream",
     "text": [
      "INFO:tensorflow:Restoring parameters from data/weights/2018-01_v3_weights_cnn\n",
      "INFO:lib.loader: 2270 instances loaded from data/predict/2018-01.csv\n"
     ]
    },
    {
     "name": "stdout",
     "output_type": "stream",
     "text": [
      " done                                                                                no data_label\n"
     ]
    },
    {
     "name": "stderr",
     "output_type": "stream",
     "text": [
      "INFO:lib.vocab: 2737 vocab loaded from data/vocab/2018-01_vocab.csv\n"
     ]
    },
    {
     "name": "stdout",
     "output_type": "stream",
     "text": [
      "\n",
      "\n",
      "PREDICTING\n",
      "\n",
      "\n",
      "INFO:tensorflow:Restoring parameters from data/weights/2018-01_v3_weights_cnn\n"
     ]
    },
    {
     "name": "stderr",
     "output_type": "stream",
     "text": [
      "INFO:tensorflow:Restoring parameters from data/weights/2018-01_v3_weights_cnn\n",
      "INFO:lib.loader: 75 instances loaded from data/in_sample_test/2018-01_test.csv\n"
     ]
    },
    {
     "name": "stdout",
     "output_type": "stream",
     "text": [
      " done                                                                                "
     ]
    },
    {
     "name": "stderr",
     "output_type": "stream",
     "text": [
      "INFO:lib.vocab: 2737 vocab loaded from data/vocab/2018-01_vocab.csv\n"
     ]
    },
    {
     "name": "stdout",
     "output_type": "stream",
     "text": [
      "\n",
      "\n",
      "PREDICTING\n",
      "\n",
      "\n",
      "INFO:tensorflow:Restoring parameters from data/weights/2018-01_v3_weights_cnn\n"
     ]
    },
    {
     "name": "stderr",
     "output_type": "stream",
     "text": [
      "INFO:tensorflow:Restoring parameters from data/weights/2018-01_v3_weights_cnn\n",
      "INFO:lib.loader: 500 instances loaded from data/out_of_sample_test/2018-01.csv\n"
     ]
    },
    {
     "name": "stdout",
     "output_type": "stream",
     "text": [
      " done                                                                                "
     ]
    },
    {
     "name": "stderr",
     "output_type": "stream",
     "text": [
      "INFO:lib.vocab: 2737 vocab loaded from data/vocab/2018-01_vocab.csv\n"
     ]
    },
    {
     "name": "stdout",
     "output_type": "stream",
     "text": [
      "\n",
      "\n",
      "PREDICTING\n",
      "\n",
      "\n",
      "INFO:tensorflow:Restoring parameters from data/weights/2018-01_v4_weights_cnn\n"
     ]
    },
    {
     "name": "stderr",
     "output_type": "stream",
     "text": [
      "INFO:tensorflow:Restoring parameters from data/weights/2018-01_v4_weights_cnn\n",
      "INFO:lib.loader: 2270 instances loaded from data/predict/2018-01.csv\n"
     ]
    },
    {
     "name": "stdout",
     "output_type": "stream",
     "text": [
      " done                                                                                no data_label\n"
     ]
    },
    {
     "name": "stderr",
     "output_type": "stream",
     "text": [
      "INFO:lib.vocab: 2737 vocab loaded from data/vocab/2018-01_vocab.csv\n"
     ]
    },
    {
     "name": "stdout",
     "output_type": "stream",
     "text": [
      "\n",
      "\n",
      "PREDICTING\n",
      "\n",
      "\n",
      "INFO:tensorflow:Restoring parameters from data/weights/2018-01_v4_weights_cnn\n"
     ]
    },
    {
     "name": "stderr",
     "output_type": "stream",
     "text": [
      "INFO:tensorflow:Restoring parameters from data/weights/2018-01_v4_weights_cnn\n",
      "INFO:lib.loader: 75 instances loaded from data/in_sample_test/2018-01_test.csv\n"
     ]
    },
    {
     "name": "stdout",
     "output_type": "stream",
     "text": [
      " done                                                                                "
     ]
    },
    {
     "name": "stderr",
     "output_type": "stream",
     "text": [
      "INFO:lib.vocab: 2737 vocab loaded from data/vocab/2018-01_vocab.csv\n"
     ]
    },
    {
     "name": "stdout",
     "output_type": "stream",
     "text": [
      "\n",
      "\n",
      "PREDICTING\n",
      "\n",
      "\n",
      "INFO:tensorflow:Restoring parameters from data/weights/2018-01_v4_weights_cnn\n"
     ]
    },
    {
     "name": "stderr",
     "output_type": "stream",
     "text": [
      "INFO:tensorflow:Restoring parameters from data/weights/2018-01_v4_weights_cnn\n",
      "INFO:lib.loader: 500 instances loaded from data/out_of_sample_test/2018-01.csv\n"
     ]
    },
    {
     "name": "stdout",
     "output_type": "stream",
     "text": [
      " done                                                                                Meeting 2018-01 \n",
      " Accuracy is  0.88 \n",
      " Recall: a rate hike -- 0.65, no rate hike -- 0.78, no opinion --  0.98. \n",
      " Precision: rate hike --  0.92, no rate hike --  0.88, no opinion -- 0.87. \n",
      "\n",
      "\n",
      "Meeting 2018-01 \n",
      " Accuracy is  0.69 \n",
      " Recall: a rate hike -- 1.00, no rate hike -- 0.55, no opinion --  0.82. \n",
      " Precision: rate hike --  0.03, no rate hike --  1.00, no opinion -- 0.70. \n",
      "\n",
      "\n"
     ]
    }
   ],
   "source": [
    "\n",
    "meeting_list = ['2015-06', '2015-07', '2015-09', '2015-10', '2015-12',\n",
    "                        '2016-01', '2016-03', '2016-04', '2016-06', '2016-07', '2016-09', '2016-11', '2016-12',\n",
    "                        '2017-01', '2017-03', '2017-05', '2017-06', '2017-07', '2017-09', '2017-10', '2017-12',\n",
    "                        '2018-01']\n",
    "\n",
    "for meeting in meeting_list:\n",
    "    \n",
    "    for i in xrange(5):\n",
    "        version = 'v' + str(i)\n",
    "        json = 'data/config/<meeting>_<version>_config.json'\n",
    "        json = json.replace('<meeting>', meeting)\n",
    "        json = json.replace('<version>', version)\n",
    "        \n",
    "        fp_in = 'data/predict/<meeting>.csv'\n",
    "        fp_out = 'data/predict_result/<meeting>.csv'\n",
    "        fp_in = fp_in.replace('<meeting>', meeting)\n",
    "        fp_out = fp_out.replace('<meeting>', meeting)\n",
    "        model = CNNModel(json)\n",
    "        model.predict(fp_in, fp_out, has_label_here = False)\n",
    "\n",
    "        fp_in = 'data/in_sample_test/<meeting>_test.csv'\n",
    "        fp_out = 'data/in_sample_test_result/<meeting>.csv'\n",
    "        fp_in = fp_in.replace('<meeting>', meeting)\n",
    "        fp_out = fp_out.replace('<meeting>', meeting)\n",
    "        model = CNNModel(json)\n",
    "        model.predict(fp_in, fp_out, has_label_here = True)\n",
    "\n",
    "        fp_in = 'data/out_of_sample_test/<meeting>.csv'\n",
    "        fp_out = 'data/out_of_sample_test_result/<meeting>.csv'\n",
    "        fp_in = fp_in.replace('<meeting>', meeting)\n",
    "        fp_out = fp_out.replace('<meeting>', meeting)\n",
    "        model = CNNModel(json)\n",
    "        model.predict(fp_in, fp_out, has_label_here = True)\n",
    "\n",
    "\n",
    "    # in-sample test\n",
    "    data_fp = 'data/in_sample_test_result/<meeting>.csv'\n",
    "    label_fp = 'data/in_sample_test/<meeting>_test.csv'\n",
    "    analysis(data_fp, meeting, label_fp)\n",
    "\n",
    "    # out-of-sample test\n",
    "    data_fp = 'data/out_of_sample_test_result/<meeting>.csv'\n",
    "    label_fp = 'data/out_of_sample_test/<meeting>.csv'\n",
    "    analysis(data_fp, meeting, label_fp)\n",
    "\n",
    "    # predict\n",
    "    data_fp = 'data/predict_result/<meeting>.csv'\n",
    "    analysis(data_fp, meeting)\n",
    "\n"
   ]
  },
  {
   "cell_type": "code",
   "execution_count": null,
   "metadata": {
    "collapsed": true
   },
   "outputs": [],
   "source": []
  }
 ],
 "metadata": {
  "kernelspec": {
   "display_name": "Python 2",
   "language": "python",
   "name": "python2"
  },
  "language_info": {
   "codemirror_mode": {
    "name": "ipython",
    "version": 2
   },
   "file_extension": ".py",
   "mimetype": "text/x-python",
   "name": "python",
   "nbconvert_exporter": "python",
   "pygments_lexer": "ipython2",
   "version": "2.7.13"
  }
 },
 "nbformat": 4,
 "nbformat_minor": 2
}
