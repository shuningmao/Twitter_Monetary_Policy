{
 "cells": [
  {
   "cell_type": "markdown",
   "metadata": {},
   "source": [
    "<h1>2 Vocab</h1>\n",
    "\n",
    "Extract vocab from training set."
   ]
  },
  {
   "cell_type": "code",
   "execution_count": 11,
   "metadata": {
    "collapsed": false
   },
   "outputs": [
    {
     "name": "stdout",
     "output_type": "stream",
     "text": [
      "The autoreload extension is already loaded. To reload it, use:\n",
      "  %reload_ext autoreload\n"
     ]
    }
   ],
   "source": [
    "%load_ext autoreload\n",
    "%autoreload 2\n",
    "%reload_ext autoreload\n",
    "\n",
    "import logging\n",
    "\n",
    "logging.basicConfig(level=logging.INFO)"
   ]
  },
  {
   "cell_type": "code",
   "execution_count": 12,
   "metadata": {
    "collapsed": true
   },
   "outputs": [],
   "source": [
    "from lib.vocab import Vocab, VocabStats\n",
    "import lib.tools as tools\n",
    "\n",
    "vocab = Vocab()"
   ]
  },
  {
   "cell_type": "markdown",
   "metadata": {},
   "source": [
    "<h3>1. Build Vocab</h3>\n",
    "<p>load_csv: read data</p>\n",
    "<p>condense: use threshold to filter out low-frequency phrases</p>\n",
    "<p>save_vocab</p>\n"
   ]
  },
  {
   "cell_type": "code",
   "execution_count": 13,
   "metadata": {
    "collapsed": false
   },
   "outputs": [
    {
     "name": "stderr",
     "output_type": "stream",
     "text": [
      "INFO:lib.vocab: vocab loaded from data/dev/2016-09_train.csv\n",
      "INFO:lib.vocab: 930 vocab saved to data/vocab/2016-09_vocab.csv\n",
      "INFO:lib.vocab: vocab loaded from data/dev/2015-07_train.csv\n",
      "INFO:lib.vocab: 1428 vocab saved to data/vocab/2015-07_vocab.csv\n",
      "INFO:lib.vocab: vocab loaded from data/dev/2016-04_train.csv\n",
      "INFO:lib.vocab: 1853 vocab saved to data/vocab/2016-04_vocab.csv\n",
      "INFO:lib.vocab: vocab loaded from data/dev/2017-09_train.csv\n",
      "INFO:lib.vocab: 2247 vocab saved to data/vocab/2017-09_vocab.csv\n",
      "INFO:lib.vocab: vocab loaded from data/dev/2017-10_train.csv\n",
      "INFO:lib.vocab: 2453 vocab saved to data/vocab/2017-10_vocab.csv\n",
      "INFO:lib.vocab: vocab loaded from data/dev/2018-01_train.csv\n",
      "INFO:lib.vocab: 2737 vocab saved to data/vocab/2018-01_vocab.csv\n",
      "INFO:lib.vocab: vocab loaded from data/dev/2016-11_train.csv\n",
      "INFO:lib.vocab: 2903 vocab saved to data/vocab/2016-11_vocab.csv\n",
      "INFO:lib.vocab: vocab loaded from data/dev/2015-12_train.csv\n",
      "INFO:lib.vocab: 3172 vocab saved to data/vocab/2015-12_vocab.csv\n",
      "INFO:lib.vocab: vocab loaded from data/dev/2015-06_train.csv\n",
      "INFO:lib.vocab: 3324 vocab saved to data/vocab/2015-06_vocab.csv\n",
      "INFO:lib.vocab: vocab loaded from data/dev/2017-03_train.csv\n",
      "INFO:lib.vocab: 3592 vocab saved to data/vocab/2017-03_vocab.csv\n",
      "INFO:lib.vocab: vocab loaded from data/dev/2017-05_train.csv\n",
      "INFO:lib.vocab: 3698 vocab saved to data/vocab/2017-05_vocab.csv\n",
      "INFO:lib.vocab: vocab loaded from data/dev/2016-03_train.csv\n",
      "INFO:lib.vocab: 3751 vocab saved to data/vocab/2016-03_vocab.csv\n",
      "INFO:lib.vocab: vocab loaded from data/dev/2016-06_train.csv\n",
      "INFO:lib.vocab: 3782 vocab saved to data/vocab/2016-06_vocab.csv\n",
      "INFO:lib.vocab: vocab loaded from data/dev/2016-12_train.csv\n",
      "INFO:lib.vocab: 3826 vocab saved to data/vocab/2016-12_vocab.csv\n",
      "INFO:lib.vocab: vocab loaded from data/dev/2017-06_train.csv\n",
      "INFO:lib.vocab: 3866 vocab saved to data/vocab/2017-06_vocab.csv\n",
      "INFO:lib.vocab: vocab loaded from data/dev/2017-12_train.csv\n",
      "INFO:lib.vocab: 3904 vocab saved to data/vocab/2017-12_vocab.csv\n",
      "INFO:lib.vocab: vocab loaded from data/dev/2015-09_train.csv\n",
      "INFO:lib.vocab: 3938 vocab saved to data/vocab/2015-09_vocab.csv\n",
      "INFO:lib.vocab: vocab loaded from data/dev/2015-10_train.csv\n",
      "INFO:lib.vocab: 3966 vocab saved to data/vocab/2015-10_vocab.csv\n",
      "INFO:lib.vocab: vocab loaded from data/dev/2016-07_train.csv\n",
      "INFO:lib.vocab: 3981 vocab saved to data/vocab/2016-07_vocab.csv\n",
      "INFO:lib.vocab: vocab loaded from data/dev/2017-01_train.csv\n",
      "INFO:lib.vocab: 3993 vocab saved to data/vocab/2017-01_vocab.csv\n",
      "INFO:lib.vocab: vocab loaded from data/dev/2016-01_train.csv\n",
      "INFO:lib.vocab: 4014 vocab saved to data/vocab/2016-01_vocab.csv\n",
      "INFO:lib.vocab: vocab loaded from data/dev/2017-07_train.csv\n",
      "INFO:lib.vocab: 4042 vocab saved to data/vocab/2017-07_vocab.csv\n"
     ]
    }
   ],
   "source": [
    "dst_inp = 'data/dev/'\n",
    "dst_out = 'data/vocab/'\n",
    "fn = tools.read_all_files(dst_inp)\n",
    "\n",
    "\n",
    "for fn_inp in fn:\n",
    "    if '_train.csv' in fn_inp:\n",
    "        vocab.load_csv(dst_inp + fn_inp, col = 2)\n",
    "        vocab = vocab.condense(threshold=3)\n",
    "        fn_out = fn_inp.replace(\"_train.csv\", \"_vocab.csv\")\n",
    "        vocab.save_vocab(dst_out + fn_out)"
   ]
  },
  {
   "cell_type": "code",
   "execution_count": null,
   "metadata": {
    "collapsed": true
   },
   "outputs": [],
   "source": []
  },
  {
   "cell_type": "code",
   "execution_count": null,
   "metadata": {
    "collapsed": true
   },
   "outputs": [],
   "source": []
  },
  {
   "cell_type": "code",
   "execution_count": null,
   "metadata": {
    "collapsed": true
   },
   "outputs": [],
   "source": []
  }
 ],
 "metadata": {
  "kernelspec": {
   "display_name": "Python 2",
   "language": "python",
   "name": "python2"
  },
  "language_info": {
   "codemirror_mode": {
    "name": "ipython",
    "version": 2
   },
   "file_extension": ".py",
   "mimetype": "text/x-python",
   "name": "python",
   "nbconvert_exporter": "python",
   "pygments_lexer": "ipython2",
   "version": "2.7.13"
  }
 },
 "nbformat": 4,
 "nbformat_minor": 2
}
