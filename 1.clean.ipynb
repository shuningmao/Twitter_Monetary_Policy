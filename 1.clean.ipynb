{
 "cells": [
  {
   "cell_type": "markdown",
   "metadata": {},
   "source": [
    "<h1>1 Clean</h1>\n",
    "\n",
    "Clean -> Label -> Split"
   ]
  },
  {
   "cell_type": "code",
   "execution_count": 10,
   "metadata": {
    "collapsed": false
   },
   "outputs": [
    {
     "name": "stdout",
     "output_type": "stream",
     "text": [
      "The autoreload extension is already loaded. To reload it, use:\n",
      "  %reload_ext autoreload\n"
     ]
    }
   ],
   "source": [
    "%load_ext autoreload\n",
    "%autoreload 2\n",
    "%reload_ext autoreload\n",
    "\n",
    "import logging\n",
    "\n",
    "logging.basicConfig(level=logging.INFO)\n"
   ]
  },
  {
   "cell_type": "markdown",
   "metadata": {},
   "source": [
    "<h3>1. Create Cleaner </h3>"
   ]
  },
  {
   "cell_type": "code",
   "execution_count": 11,
   "metadata": {
    "collapsed": false
   },
   "outputs": [],
   "source": [
    "from lib.cleaner import Cleaner\n",
    "\n",
    "cleaner = Cleaner()\n"
   ]
  },
  {
   "cell_type": "markdown",
   "metadata": {},
   "source": [
    "<h3>2. Use cleaner.split to separate data into training/dev/test sets</h3>"
   ]
  },
  {
   "cell_type": "code",
   "execution_count": 17,
   "metadata": {
    "collapsed": false
   },
   "outputs": [
    {
     "name": "stderr",
     "output_type": "stream",
     "text": [
      "INFO:lib.cleaner: saved 1125 instances to 2015-06_train.csv\n",
      "INFO:lib.cleaner: saved 300 instances to 2015-06_dev.csv\n",
      "INFO:lib.cleaner: saved 1125 instances to 2015-07_train.csv\n",
      "INFO:lib.cleaner: saved 300 instances to 2015-07_dev.csv\n",
      "INFO:lib.cleaner: saved 1125 instances to 2015-09_train.csv\n",
      "INFO:lib.cleaner: saved 300 instances to 2015-09_dev.csv\n",
      "INFO:lib.cleaner: saved 1125 instances to 2015-10_train.csv\n",
      "INFO:lib.cleaner: saved 300 instances to 2015-10_dev.csv\n",
      "INFO:lib.cleaner: saved 1125 instances to 2015-12_train.csv\n",
      "INFO:lib.cleaner: saved 300 instances to 2015-12_dev.csv\n",
      "INFO:lib.cleaner: saved 1125 instances to 2016-01_train.csv\n",
      "INFO:lib.cleaner: saved 300 instances to 2016-01_dev.csv\n",
      "INFO:lib.cleaner: saved 1125 instances to 2016-03_train.csv\n",
      "INFO:lib.cleaner: saved 300 instances to 2016-03_dev.csv\n",
      "INFO:lib.cleaner: saved 1125 instances to 2016-04_train.csv\n",
      "INFO:lib.cleaner: saved 300 instances to 2016-04_dev.csv\n",
      "INFO:lib.cleaner: saved 1125 instances to 2016-06_train.csv\n",
      "INFO:lib.cleaner: saved 300 instances to 2016-06_dev.csv\n",
      "INFO:lib.cleaner: saved 1125 instances to 2016-07_train.csv\n",
      "INFO:lib.cleaner: saved 300 instances to 2016-07_dev.csv\n",
      "INFO:lib.cleaner: saved 1125 instances to 2016-09_train.csv\n",
      "INFO:lib.cleaner: saved 300 instances to 2016-09_dev.csv\n",
      "INFO:lib.cleaner: saved 1125 instances to 2016-11_train.csv\n",
      "INFO:lib.cleaner: saved 300 instances to 2016-11_dev.csv\n",
      "INFO:lib.cleaner: saved 1125 instances to 2016-12_train.csv\n",
      "INFO:lib.cleaner: saved 300 instances to 2016-12_dev.csv\n",
      "INFO:lib.cleaner: saved 1125 instances to 2017-01_train.csv\n",
      "INFO:lib.cleaner: saved 300 instances to 2017-01_dev.csv\n",
      "INFO:lib.cleaner: saved 1125 instances to 2017-03_train.csv\n",
      "INFO:lib.cleaner: saved 300 instances to 2017-03_dev.csv\n",
      "INFO:lib.cleaner: saved 1125 instances to 2017-05_train.csv\n",
      "INFO:lib.cleaner: saved 300 instances to 2017-05_dev.csv\n",
      "INFO:lib.cleaner: saved 1125 instances to 2017-06_train.csv\n",
      "INFO:lib.cleaner: saved 300 instances to 2017-06_dev.csv\n",
      "INFO:lib.cleaner: saved 1125 instances to 2017-07_train.csv\n",
      "INFO:lib.cleaner: saved 300 instances to 2017-07_dev.csv\n",
      "INFO:lib.cleaner: saved 1125 instances to 2017-09_train.csv\n",
      "INFO:lib.cleaner: saved 300 instances to 2017-09_dev.csv\n",
      "INFO:lib.cleaner: saved 1125 instances to 2017-10_train.csv\n",
      "INFO:lib.cleaner: saved 300 instances to 2017-10_dev.csv\n",
      "INFO:lib.cleaner: saved 1125 instances to 2017-12_train.csv\n",
      "INFO:lib.cleaner: saved 300 instances to 2017-12_dev.csv\n",
      "INFO:lib.cleaner: saved 1125 instances to 2018-01_train.csv\n",
      "INFO:lib.cleaner: saved 300 instances to 2018-01_dev.csv\n"
     ]
    }
   ],
   "source": [
    "directory_inp = 'data/label/'\n",
    "directory_out1 = 'data/dev/'\n",
    "directory_out2 = 'data/in_sample_test/'\n",
    "\n",
    "cleaner.split(directory_inp, directory_out1, directory_out2,  train=0.75, dev=0.2, test=0.05)\n"
   ]
  },
  {
   "cell_type": "markdown",
   "metadata": {
    "collapsed": true
   },
   "source": [
    "<h3>3. Generate config using cleaner.json_file </h3>"
   ]
  },
  {
   "cell_type": "code",
   "execution_count": 43,
   "metadata": {
    "collapsed": false
   },
   "outputs": [],
   "source": [
    "# if need to change hyper-parameter, change it in the base_file\n",
    "\n",
    "directory_inp = 'data/label/'\n",
    "directory_out = 'data/config/'\n",
    "base_file = directory_out + 'basic_re.json'\n",
    "for i in xrange(5):\n",
    "    version = \"v\" + str(i)\n",
    "    cleaner.json_re_file(base_file, directory_inp, directory_out, version)\n",
    "\n"
   ]
  },
  {
   "cell_type": "code",
   "execution_count": null,
   "metadata": {
    "collapsed": true
   },
   "outputs": [],
   "source": []
  }
 ],
 "metadata": {
  "kernelspec": {
   "display_name": "Python 2",
   "language": "python",
   "name": "python2"
  },
  "language_info": {
   "codemirror_mode": {
    "name": "ipython",
    "version": 2
   },
   "file_extension": ".py",
   "mimetype": "text/x-python",
   "name": "python",
   "nbconvert_exporter": "python",
   "pygments_lexer": "ipython2",
   "version": "2.7.13"
  }
 },
 "nbformat": 4,
 "nbformat_minor": 2
}
